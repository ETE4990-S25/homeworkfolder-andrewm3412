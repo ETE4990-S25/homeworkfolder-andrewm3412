{
 "cells": [
  {
   "cell_type": "markdown",
   "id": "7a813adb",
   "metadata": {},
   "source": [
    "# Exceptions\n",
    "Sometimes things happen in your code that you may want to catch and still allow your code to continue to run. An Exception is the way to do that\n",
    "\n",
    "It is important that your end user does not know that there are errors. We can User proof our programs by adding try-except. \n",
    "\n",
    "\n",
    "and before you say it... But we can use if else: \n",
    "\n",
    "Thank you chat gpt\n",
    "\n",
    "**if-else statements**:\n",
    "They are used for conditional execution based on a known condition. The code within the if block is executed if the condition is true, and the code within the else block is executed if the condition is false.\n",
    "\n",
    "**try-except blocks**:\n",
    "They are used for handling exceptions, which are runtime errors that can occur during program execution. The code within the try block is executed, and if an exception occurs, the code within the except block is executed.\n",
    "\n",
    "The choice between if-else and try-except depends on the specific situation and the desired behavior.\n",
    "\n",
    "**Usage**\n",
    "Use if-else when you want to execute different code blocks based on a known condition.\n",
    "Use try-except when you want to handle potential runtime errors gracefully and prevent the program from crashing.\n"
   ]
  },
  {
   "cell_type": "code",
   "execution_count": null,
   "id": "54ac1187",
   "metadata": {},
   "outputs": [],
   "source": [
    "0/0"
   ]
  },
  {
   "cell_type": "markdown",
   "id": "090f9b0a",
   "metadata": {},
   "source": [
    "Here we are getting the error ZeroDivision Error. This is the exception object. This object is what happens when an error happens and Python is trying to handle the code. We can modicy the program to grab these errors and deal with them.\n",
    "One way to do that is with the try-except (try-catch in other languages)\n",
    "\n"
   ]
  },
  {
   "cell_type": "markdown",
   "id": "d0f85fc7",
   "metadata": {},
   "source": [
    "## try-except"
   ]
  },
  {
   "cell_type": "code",
   "execution_count": null,
   "id": "c0a493f7",
   "metadata": {},
   "outputs": [],
   "source": [
    "try:\n",
    "    0/0\n",
    "except ZeroDivisionError:\n",
    "    print('Please stop trying to brake math?')"
   ]
  },
  {
   "cell_type": "code",
   "execution_count": null,
   "id": "984cc2b0",
   "metadata": {},
   "outputs": [],
   "source": [
    "0/0"
   ]
  },
  {
   "cell_type": "markdown",
   "id": "0b225546",
   "metadata": {},
   "source": [
    "Note: Python looks for an except block whose error matches the one that was raised and runs the code in that block.\n",
    "If that error is not found than it cant handle the except."
   ]
  },
  {
   "cell_type": "code",
   "execution_count": null,
   "id": "7c43d384",
   "metadata": {},
   "outputs": [],
   "source": [
    "try:\n",
    "    with open(\"filename\") as f:\n",
    "        f.write(\"This will never happen\")\n",
    "except ZeroDivisionError:\n",
    "    print('Ignore me please')\n",
    "except FileNotFoundError:\n",
    "    print('Ignore me')"
   ]
  },
  {
   "cell_type": "markdown",
   "id": "198e3b1b",
   "metadata": {},
   "source": [
    "## Missing exceptions\n",
    "As you can see Python can not catch the exception object because it is differnt from before."
   ]
  },
  {
   "cell_type": "code",
   "execution_count": null,
   "id": "43edabee",
   "metadata": {},
   "outputs": [],
   "source": [
    "def divide():\n",
    "    print(\"Give me two numbers, and I'll divide them.\")\n",
    "    print(\"Enter 'q' to quit.\")\n",
    "    while True:\n",
    "        first_number = input(\"\\nFirst number: \")\n",
    "        if first_number == 'q':\n",
    "            break\n",
    "        second_number = input(\"Second number: \")\n",
    "        if second_number == 'q':\n",
    "            break\n",
    "        answer = int(first_number) / int(second_number)\n",
    "        print(answer)"
   ]
  },
  {
   "cell_type": "code",
   "execution_count": null,
   "id": "318f9a2f",
   "metadata": {},
   "outputs": [],
   "source": [
    "divide()"
   ]
  },
  {
   "cell_type": "code",
   "execution_count": null,
   "id": "ac91b3ad",
   "metadata": {},
   "outputs": [],
   "source": [
    "try:\n",
    "    divide()\n",
    "except ZeroDivisionError:\n",
    "    print('Have you ever taken math!')\n",
    "    divide()"
   ]
  },
  {
   "cell_type": "code",
   "execution_count": null,
   "id": "1ba7e969",
   "metadata": {},
   "outputs": [],
   "source": [
    "def divide():\n",
    "    print(\"Give me two numbers, and I'll divide them.\")\n",
    "    print(\"Enter 'q' to quit.\")\n",
    "    while True:\n",
    "        first_number = input(\"\\nFirst number: \")\n",
    "        if first_number == 'q':\n",
    "            break\n",
    "        second_number = input(\"Second number: \") \n",
    "        \n",
    "        try:\n",
    "            if second_number == 'q':\n",
    "                break \n",
    "            answer = int(first_number) / int(second_number)\n",
    "            \n",
    "        except ZeroDivisionError:\n",
    "            print('Have you ever taken math!')\n",
    "        else:\n",
    "            print(answer)\n",
    "  \n"
   ]
  },
  {
   "cell_type": "code",
   "execution_count": null,
   "id": "3c6a9db8",
   "metadata": {},
   "outputs": [],
   "source": [
    "divide()"
   ]
  },
  {
   "cell_type": "markdown",
   "id": "df23a32b",
   "metadata": {},
   "source": [
    "## FileNotFoundError"
   ]
  },
  {
   "cell_type": "code",
   "execution_count": null,
   "id": "4eb8d3db",
   "metadata": {},
   "outputs": [],
   "source": [
    "try:\n",
    "    with open(\"filename\") as f:\n",
    "        f.write(\"This will never happen\")\n",
    "except FileNotFoundError:\n",
    "    print('No file found')\n",
    "    "
   ]
  },
  {
   "cell_type": "code",
   "execution_count": null,
   "id": "4e9a6dce",
   "metadata": {},
   "outputs": [],
   "source": [
    "try:\n",
    "    with open(\"filename\") as f:\n",
    "        f.write(\"This will never happen\")\n",
    "except FileNotFoundError:\n",
    "    with open(\"log.txt\", 'a') as f:\n",
    "        f.write(\"Error opening filename\")\n",
    "    pass"
   ]
  },
  {
   "cell_type": "markdown",
   "id": "64179de0",
   "metadata": {},
   "source": [
    "One of the bigest problems with except errors is not only knowing wich ones to use but all so wich ones to tell the user. You can create a log file to save the error found and continue to move on if needed. "
   ]
  },
  {
   "cell_type": "markdown",
   "id": "6f013eb6",
   "metadata": {},
   "source": [
    "# Recursion"
   ]
  },
  {
   "cell_type": "code",
   "execution_count": null,
   "id": "5dffe680",
   "metadata": {},
   "outputs": [
    {
     "name": "stdout",
     "output_type": "stream",
     "text": [
      "0 1\n",
      "1 2\n",
      "3 3\n",
      "6\n"
     ]
    }
   ],
   "source": [
    "from functools import reduce\n",
    "\n",
    "def accumulate (accum, item):\n",
    "    print(accum, item)\n",
    "    return(accum +item)\n",
    "\n",
    "print(reduce(accumulate,[1,2,3],0))"
   ]
  },
  {
   "cell_type": "code",
   "execution_count": null,
   "id": "5a8f777e",
   "metadata": {},
   "outputs": [
    {
     "data": {
      "text/plain": [
       "6"
      ]
     },
     "metadata": {},
     "output_type": "display_data"
    }
   ],
   "source": [
    "def accumulate(accume, item):\n",
    "    if accume:\n",
    "        item =+ accume[0] + accumulate(accume[1:], item)\n",
    "    return item\n",
    "\n",
    "accumulate([1,2,3], 0)\n"
   ]
  }
 ],
 "metadata": {
  "kernelspec": {
   "display_name": "3.9.16",
   "language": "python",
   "name": "python3"
  },
  "language_info": {
   "codemirror_mode": {
    "name": "ipython",
    "version": 3
   },
   "file_extension": ".py",
   "mimetype": "text/x-python",
   "name": "python",
   "nbconvert_exporter": "python",
   "pygments_lexer": "ipython3",
   "version": "3.9.16"
  }
 },
 "nbformat": 4,
 "nbformat_minor": 5
}
