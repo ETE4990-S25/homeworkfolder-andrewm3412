{
 "cells": [
  {
   "cell_type": "markdown",
   "id": "b9df1c34-1066-47d9-935f-80d2353941aa",
   "metadata": {},
   "source": [
    "# Review"
   ]
  },
  {
   "cell_type": "markdown",
   "id": "966cf4f2-a93d-4667-9901-f9793e85a8ac",
   "metadata": {
    "jp-MarkdownHeadingCollapsed": true
   },
   "source": [
    "## Variables"
   ]
  },
  {
   "cell_type": "code",
   "execution_count": 1,
   "id": "62b53f31-2e38-4e7b-a0b9-d9be18748707",
   "metadata": {},
   "outputs": [
    {
     "name": "stdout",
     "output_type": "stream",
     "text": [
      "\tA Int:\t 1 \t <class 'int'>\n",
      "\tString:\t Foo Bar \t <class 'str'>\n",
      "\tA List:\t [1, 2, 3, 4, 5] \t <class 'list'>\n",
      "\tA Tuple: (1, 2, 3, 4, 5) \t <class 'tuple'>\n",
      "\tA Dict: {1: 'one', 2: 'two'} \t <class 'dict'>\n"
     ]
    }
   ],
   "source": [
    "score = 1\n",
    "name = \"Foo Bar\"\n",
    "aList = [1, 2, 3, 4, 5]\n",
    "aTuple = (1, 2, 3, 4, 5)\n",
    "aDict = {1:\"one\",2:\"two\"}\n",
    "\n",
    "print(\"\\tA Int:\\t\", score,\"\\t\", type(score))\n",
    "print(\"\\tString:\\t\", name,\"\\t\", type(name))\n",
    "print(\"\\tA List:\\t\", aList,\"\\t\", type(aList))\n",
    "print(\"\\tA Tuple:\", aTuple,\"\\t\", type(aTuple))\n",
    "print(\"\\tA Dict:\", aDict,\"\\t\", type(aDict))\n"
   ]
  },
  {
   "cell_type": "markdown",
   "id": "f9f83a82-ad6b-4b3d-9ab6-3887b0deeccd",
   "metadata": {},
   "source": [
    "    Avoid using Python keywords and function names as variable names; \n",
    "    Do not use words that Python has reserved for a particular programmatic purpose\n",
    "| | | | | |\n",
    "|:---|:---|:---|:---|:---|\n",
    "|False| class| finally|is|return|\n",
    "|None|continue|for|lambda|try|\n",
    "|True|def|from|nonlocal|while|\n",
    "|and|del|global|not|with|\n",
    "|as|elif|if|or|yield|\n",
    "|assert|else|import|pass| |\n",
    "|break|except|in|raise| |\n"
   ]
  },
  {
   "cell_type": "markdown",
   "id": "76f90719-ae04-4f1f-a43d-75b94076ba32",
   "metadata": {},
   "source": [
    "## Operators"
   ]
  },
  {
   "cell_type": "code",
   "execution_count": null,
   "id": "da56727e-1917-45f5-a715-02322cf78ada",
   "metadata": {},
   "outputs": [],
   "source": [
    "if score != 0:\n",
    "    print(\"score is not 0\")\n",
    "else:\n",
    "    print(\"score is 0\")\n"
   ]
  },
  {
   "cell_type": "markdown",
   "id": "43d1cbc3-355d-48d8-878b-7650d6a1e586",
   "metadata": {},
   "source": [
    "## Logic "
   ]
  },
  {
   "cell_type": "code",
   "execution_count": 3,
   "id": "85e40696-27f0-4b41-98e6-30324d3e538a",
   "metadata": {},
   "outputs": [
    {
     "name": "stdout",
     "output_type": "stream",
     "text": [
      "True\n",
      "False\n"
     ]
    }
   ],
   "source": [
    "print(True or False)\n",
    "print(True and False)\n"
   ]
  },
  {
   "cell_type": "code",
   "execution_count": null,
   "id": "8245f312-c7cb-4dfe-8cf5-fe4aa11687df",
   "metadata": {},
   "outputs": [],
   "source": []
  },
  {
   "cell_type": "markdown",
   "id": "533ec26f-8750-419b-87e2-620cb45f6a4e",
   "metadata": {},
   "source": [
    "## Bugs"
   ]
  },
  {
   "cell_type": "code",
   "execution_count": 4,
   "id": "9cd01b29-20e6-4c90-b5bd-d1e57c58d091",
   "metadata": {},
   "outputs": [
    {
     "name": "stdout",
     "output_type": "stream",
     "text": [
      "score is not 0\n"
     ]
    }
   ],
   "source": [
    "# Logical\n",
    "score = 1\n",
    "\n",
    "if score != 0:\n",
    "    print(\"score is not 0\")\n",
    "elif score == 1:\n",
    "    print(\"score is 1\")\n",
    "else:\n",
    "    print(\"score is 0\")"
   ]
  },
  {
   "cell_type": "code",
   "execution_count": 5,
   "id": "24767f13-d747-4aa6-944c-a1ac3daaaf70",
   "metadata": {},
   "outputs": [
    {
     "ename": "SyntaxError",
     "evalue": "invalid syntax. Maybe you meant '==' or ':=' instead of '='? (674149239.py, line 2)",
     "output_type": "error",
     "traceback": [
      "\u001b[0;36m  Cell \u001b[0;32mIn[5], line 2\u001b[0;36m\u001b[0m\n\u001b[0;31m    if score = 1\u001b[0m\n\u001b[0m       ^\u001b[0m\n\u001b[0;31mSyntaxError\u001b[0m\u001b[0;31m:\u001b[0m invalid syntax. Maybe you meant '==' or ':=' instead of '='?\n"
     ]
    }
   ],
   "source": [
    "#SyntaxError\n",
    "if score = 1"
   ]
  },
  {
   "cell_type": "markdown",
   "id": "fddca5e8-dbb3-4d50-8f08-3f19483c80cc",
   "metadata": {},
   "source": [
    "# Lists"
   ]
  },
  {
   "cell_type": "code",
   "execution_count": 33,
   "id": "ae747195-e51c-4556-bdd7-9a65ed35bba5",
   "metadata": {},
   "outputs": [
    {
     "name": "stdout",
     "output_type": "stream",
     "text": [
      "[1, 2, 2, 2, 3, 'word1', 'word2']\n"
     ]
    }
   ],
   "source": [
    "aList = [1, 2, 2, 2, 3, \"word1\", \"word2\"]\n",
    "print(aList)"
   ]
  },
  {
   "cell_type": "code",
   "execution_count": 19,
   "id": "c6470e06-d82e-4389-b8fb-f0d21abda7c2",
   "metadata": {},
   "outputs": [
    {
     "name": "stdout",
     "output_type": "stream",
     "text": [
      "2\n"
     ]
    }
   ],
   "source": [
    "print(aList[3])"
   ]
  },
  {
   "cell_type": "code",
   "execution_count": 20,
   "id": "7bc646e1-0510-4d09-9176-954725305104",
   "metadata": {},
   "outputs": [
    {
     "name": "stdout",
     "output_type": "stream",
     "text": [
      "4\n"
     ]
    }
   ],
   "source": [
    "print (aList[1]+ aList[3])"
   ]
  },
  {
   "cell_type": "code",
   "execution_count": 21,
   "id": "daa777c1-809a-493b-9b70-5f4b8108422a",
   "metadata": {},
   "outputs": [
    {
     "name": "stdout",
     "output_type": "stream",
     "text": [
      "My list contains the following at index 1: 2\n"
     ]
    }
   ],
   "source": [
    "print(\"My list contains the following at index 1:\", aList[1])"
   ]
  },
  {
   "cell_type": "code",
   "execution_count": 24,
   "id": "957f1cb8-3e09-4336-a4e9-86512e22fcb3",
   "metadata": {},
   "outputs": [
    {
     "name": "stdout",
     "output_type": "stream",
     "text": [
      "number of elements 7\n",
      "<class 'int'>\n",
      "number of element 2 in a list 3\n"
     ]
    }
   ],
   "source": [
    "print(\"number of elements\", len(aList))\n",
    "print(type(len(aList)))\n",
    "print(\"number of element 2 in a list\", aList.count(2))"
   ]
  },
  {
   "cell_type": "code",
   "execution_count": 32,
   "id": "192b30c1-0fba-475b-a6b7-5ad4de638251",
   "metadata": {},
   "outputs": [
    {
     "name": "stdout",
     "output_type": "stream",
     "text": [
      "3\n"
     ]
    }
   ],
   "source": [
    "print(aList.pop())"
   ]
  },
  {
   "cell_type": "code",
   "execution_count": 34,
   "id": "a71ca4d2-16b2-4469-85b7-50298bb2a896",
   "metadata": {},
   "outputs": [
    {
     "name": "stdout",
     "output_type": "stream",
     "text": [
      "popped: word2\n",
      "aList after pop: [1, 2, 2, 2, 3]\n",
      "aList after insert: [1, 2, 2, 'word3', 2, 3]\n"
     ]
    }
   ],
   "source": [
    "#removing items\n",
    "popped = aList.pop()\n",
    "aList.remove(\"word1\")\n",
    "print(\"popped:\", popped)\n",
    "print(\"aList after pop:\", aList)\n",
    "#adding items\n",
    "aList.insert(3, \"word3\")\n",
    "print(\"aList after insert:\",aList)"
   ]
  },
  {
   "cell_type": "code",
   "execution_count": 35,
   "id": "c8badde5-bf76-425f-9f11-d72a833b0d4e",
   "metadata": {},
   "outputs": [
    {
     "name": "stdout",
     "output_type": "stream",
     "text": [
      "[1, 2, 3, 4, 6, 7]\n"
     ]
    }
   ],
   "source": [
    "favorite_numbers = [2, 4, 7, 1, 6, 3]\n",
    "favorite_numbers.sort()\n",
    "print(favorite_numbers)"
   ]
  },
  {
   "cell_type": "code",
   "execution_count": 36,
   "id": "473c8606-79a5-4335-bab8-6d77429e0d35",
   "metadata": {},
   "outputs": [
    {
     "name": "stdout",
     "output_type": "stream",
     "text": [
      "[7, 6, 4, 3, 2, 1]\n"
     ]
    }
   ],
   "source": [
    "favorite_numbers.sort(reverse=True) #the sort method also takes arguments\n",
    "print(favorite_numbers)"
   ]
  },
  {
   "cell_type": "code",
   "execution_count": 37,
   "id": "9e506250-ab58-4b6d-9efd-49b255e1f788",
   "metadata": {},
   "outputs": [
    {
     "name": "stdout",
     "output_type": "stream",
     "text": [
      "this is temporarily sorted: [1, 2, 3, 4, 6, 7]\n",
      "[7, 6, 4, 3, 2, 1]\n"
     ]
    }
   ],
   "source": [
    "print(\"this is temporarily sorted:\", sorted(favorite_numbers))\n",
    "print(favorite_numbers)"
   ]
  },
  {
   "cell_type": "code",
   "execution_count": 38,
   "id": "4c29b4d5-7e6c-4c7e-bdd6-1b56d096faf8",
   "metadata": {},
   "outputs": [
    {
     "name": "stdout",
     "output_type": "stream",
     "text": [
      "[1, 4, 7, 10, 13]\n"
     ]
    }
   ],
   "source": [
    "#create a list using range\n",
    "numbers = list(range(1,14,3)) # (Start, end, steps)\n",
    "print(numbers)"
   ]
  },
  {
   "cell_type": "code",
   "execution_count": null,
   "id": "1eec639d-38b7-4870-8854-daa932738743",
   "metadata": {},
   "outputs": [
    {
     "name": "stdout",
     "output_type": "stream",
     "text": [
      "[1, 4, 9, 16, 25, 36, 49, 64, 81, 100]\n",
      "[1, 4, 9, 16, 25, 36, 49, 64, 81, 100]\n"
     ]
    }
   ],
   "source": [
    "squares = []\n",
    "for i in range(1,11):\n",
    "    squares.append(i**2) \n",
    "print(squares)\n",
    "\n",
    "square = [i**2 for i in range(1,11)] # here is another way to perform the same action as above\n",
    "print(square)\n"
   ]
  },
  {
   "cell_type": "markdown",
   "id": "87842e48-d56c-4c70-b3d5-9bd330ff432c",
   "metadata": {},
   "source": [
    "## Other things"
   ]
  },
  {
   "cell_type": "code",
   "execution_count": 41,
   "id": "a8007002-1d4d-4ca8-b93f-8b1f00d9de6e",
   "metadata": {},
   "outputs": [
    {
     "name": "stdout",
     "output_type": "stream",
     "text": [
      "How old are you?  1\n"
     ]
    },
    {
     "name": "stdout",
     "output_type": "stream",
     "text": [
      "<class 'int'>\n"
     ]
    }
   ],
   "source": [
    "#input\n",
    "age = int(input(\"How old are you? \"))\n",
    "print(type(age))"
   ]
  },
  {
   "cell_type": "code",
   "execution_count": 42,
   "id": "0d62673f-aa0d-4157-8564-495da30818e1",
   "metadata": {},
   "outputs": [
    {
     "name": "stdout",
     "output_type": "stream",
     "text": [
      "\n",
      "The number 1 is odd.\n"
     ]
    }
   ],
   "source": [
    "# Modulo\n",
    "if age % 2 == 0:\n",
    "    print(\"\\nThe number \" + str(age) + \" is even.\")\n",
    "else:\n",
    "    print(\"\\nThe number \" + str(age) + \" is odd.\")"
   ]
  },
  {
   "cell_type": "code",
   "execution_count": 43,
   "id": "fffba065-f259-4138-b816-0fcaae40c629",
   "metadata": {},
   "outputs": [
    {
     "name": "stdout",
     "output_type": "stream",
     "text": [
      "you are stuck forever a\n"
     ]
    },
    {
     "name": "stdout",
     "output_type": "stream",
     "text": [
      "a\n"
     ]
    },
    {
     "name": "stdout",
     "output_type": "stream",
     "text": [
      "you are stuck forever a\n"
     ]
    },
    {
     "name": "stdout",
     "output_type": "stream",
     "text": [
      "a\n"
     ]
    },
    {
     "name": "stdout",
     "output_type": "stream",
     "text": [
      "you are stuck forever quit\n"
     ]
    }
   ],
   "source": [
    "#Flags\n",
    "flag = True\n",
    "while flag:\n",
    "    message = input(\"you are stuck forever\")\n",
    "    if message == 'quit':\n",
    "        flag = False\n",
    "    else:\n",
    "        print(message)"
   ]
  },
  {
   "cell_type": "markdown",
   "id": "72d14b7e-a214-4569-8305-cb3c97e62057",
   "metadata": {},
   "source": [
    "## Dictionary "
   ]
  },
  {
   "cell_type": "code",
   "execution_count": 2,
   "id": "16a4bb94-7bfc-4dab-9b2b-4ec83854edf5",
   "metadata": {},
   "outputs": [
    {
     "name": "stdout",
     "output_type": "stream",
     "text": [
      "Senior\n",
      "3.8\n"
     ]
    }
   ],
   "source": [
    "student = {'grade':'Senior', 'GPA': 3.8}\n",
    "print(student['grade'])\n",
    "print(student['GPA'])\n",
    "\n"
   ]
  },
  {
   "cell_type": "code",
   "execution_count": 3,
   "id": "f02e124d-0c5c-4701-9c9d-f499c5e6b562",
   "metadata": {},
   "outputs": [
    {
     "name": "stdout",
     "output_type": "stream",
     "text": [
      "0\n"
     ]
    }
   ],
   "source": [
    "student['grade'] = 0\n",
    "print(student['grade'])"
   ]
  },
  {
   "cell_type": "code",
   "execution_count": 4,
   "id": "9bf3b88e-2128-45d0-8647-b30e03edd60b",
   "metadata": {},
   "outputs": [
    {
     "name": "stdout",
     "output_type": "stream",
     "text": [
      "True\n"
     ]
    }
   ],
   "source": [
    "student[\"Backpack\"] = True\n",
    "#student[\"Backpack\"] = 1\n",
    "print(student[\"Backpack\"])\n",
    "student[\"Backpack\"] = {'backpack_empty':True}"
   ]
  },
  {
   "cell_type": "code",
   "execution_count": 7,
   "id": "fa2241fd-ed8f-4177-ba03-3131e8cc928e",
   "metadata": {},
   "outputs": [
    {
     "name": "stdout",
     "output_type": "stream",
     "text": [
      "{'grade': 0, 'GPA': 3.8, 'Backpack': {'backpack_empty': False}}\n",
      "{'backpack_empty': False}\n",
      "False\n"
     ]
    }
   ],
   "source": [
    "student[\"Backpack\"]['backpack_empty'] = False\n",
    "print(student)\n",
    "print(student[\"Backpack\"])\n",
    "print(student[\"Backpack\"]['backpack_empty'])"
   ]
  },
  {
   "cell_type": "code",
   "execution_count": 9,
   "id": "70513bbc-a37e-43c2-9ed9-a93601286eb1",
   "metadata": {},
   "outputs": [
    {
     "name": "stdout",
     "output_type": "stream",
     "text": [
      "{'grade': 0, 'GPA': 3.8, 'Backpack': {'equipped': True, 'backpack_empty': False}}\n",
      "False\n"
     ]
    }
   ],
   "source": [
    "#will work\n",
    "student[\"Backpack\"] = {}\n",
    "#student[\"Backpack\"] = {'backpack_empty':True}\n",
    "student[\"Backpack\"][\"equipped\"] = True\n",
    "student[\"Backpack\"]['backpack_empty'] = False\n",
    "print(student)\n",
    "print(student[\"Backpack\"]['backpack_empty'])"
   ]
  },
  {
   "cell_type": "code",
   "execution_count": 10,
   "id": "f160cba0-1f90-4c60-ae60-670d17a21fdd",
   "metadata": {},
   "outputs": [
    {
     "name": "stdout",
     "output_type": "stream",
     "text": [
      "True\n"
     ]
    }
   ],
   "source": [
    "student[\"Backpack\"][\"heavy\"]=True\n",
    "print(student[\"Backpack\"][\"heavy\"])\n"
   ]
  },
  {
   "cell_type": "code",
   "execution_count": 11,
   "id": "f884c472-ce96-48e2-b615-18e92f57f2b4",
   "metadata": {},
   "outputs": [
    {
     "name": "stdout",
     "output_type": "stream",
     "text": [
      "{'grade': 0, 'GPA': 3.8, 'Backpack': {'equipped': True, 'backpack_empty': False, 'heavy': True}}\n"
     ]
    }
   ],
   "source": [
    "print(student)"
   ]
  },
  {
   "cell_type": "code",
   "execution_count": 63,
   "id": "6e7b7bf1-6e4b-4de6-80bd-045e0cef8e35",
   "metadata": {},
   "outputs": [
    {
     "name": "stdout",
     "output_type": "stream",
     "text": [
      "\n",
      "Key: grade\n",
      "Value: Senior\n",
      "\n",
      "Key: GPA\n",
      "Value: 3.8\n",
      "\n",
      "Key: Backpack\n",
      "Value: {'equipped': True, 'backpack_empty': False}\n"
     ]
    }
   ],
   "source": [
    "for key, value in student.items(): \n",
    "    print(\"\\nKey:\", key)\n",
    "    print(\"Value:\", value) "
   ]
  },
  {
   "cell_type": "code",
   "execution_count": 12,
   "id": "0884b3cd-3b4c-4dbd-870a-7f7673a5cfcc",
   "metadata": {},
   "outputs": [
    {
     "name": "stdout",
     "output_type": "stream",
     "text": [
      "3.8\n",
      "{'grade': 0, 'Backpack': {'equipped': True, 'backpack_empty': False, 'heavy': True}}\n"
     ]
    }
   ],
   "source": [
    "passing = student.pop('GPA')\n",
    "print(passing)\n",
    "print(student)"
   ]
  },
  {
   "cell_type": "code",
   "execution_count": 65,
   "id": "c213e9cc-5c83-406f-87fa-905857cf05d0",
   "metadata": {},
   "outputs": [
    {
     "name": "stdout",
     "output_type": "stream",
     "text": [
      "{'id': 0, 'grade': 'Senior', 'GPA': 3.8}\n",
      "{'id': 1, 'grade': 'Senior', 'GPA': 3.8}\n",
      "{'id': 2, 'grade': 'Senior', 'GPA': 3.8}\n",
      "{'id': 3, 'grade': 'Senior', 'GPA': 3.8}\n",
      "{'id': 4, 'grade': 'Senior', 'GPA': 3.8}\n",
      "[{'id': 0, 'grade': 'Senior', 'GPA': 3.8}, {'id': 1, 'grade': 'Senior', 'GPA': 3.8}, {'id': 2, 'grade': 'Senior', 'GPA': 3.8}, {'id': 3, 'grade': 'Senior', 'GPA': 3.8}, {'id': 4, 'grade': 'Senior', 'GPA': 3.8}]\n"
     ]
    }
   ],
   "source": [
    "student_list = []\n",
    "\n",
    "for student_number in range(5):\n",
    "    new_student = {'id': student_number, 'grade':'Senior', 'GPA': 3.8}\n",
    "    student_list.append(new_student)\n",
    "\n",
    "for student in student_list[:5]:\n",
    "    print(student)\n",
    "\n",
    "print(student_list)"
   ]
  },
  {
   "cell_type": "code",
   "execution_count": null,
   "id": "f1bf4d17-b8ac-470d-b6f5-2dd9880b8f05",
   "metadata": {},
   "outputs": [],
   "source": [
    "deck = {i: {'♠', '♣', '♥', '♦'} for i in range(2, 12)}\n",
    "deck.update({'J': {'♠', '♣', '♥', '♦'}, 'Q': {'♠', '♣', '♥', '♦'}, 'K': {'♠', '♣', '♥', '♦'}, 'A': {'♠', '♣', '♥', '♦'}})\n",
    "#update will change the last elements to the ones above. \n"
   ]
  },
  {
   "cell_type": "code",
   "execution_count": 14,
   "id": "da3dc922-112e-47bb-a929-a6761862872f",
   "metadata": {},
   "outputs": [
    {
     "name": "stdout",
     "output_type": "stream",
     "text": [
      "{2: {'♥', '♦', '♣', '♠'}, 3: {'♥', '♦', '♣', '♠'}, 4: {'♥', '♦', '♣', '♠'}, 5: {'♥', '♦', '♣', '♠'}, 6: {'♥', '♦', '♣', '♠'}, 7: {'♥', '♦', '♣', '♠'}, 8: {'♥', '♦', '♣', '♠'}, 9: {'♥', '♦', '♣', '♠'}, 10: {'♥', '♦', '♣', '♠'}, 'J': {'♥', '♦', '♣', '♠'}, 'Q': {'♥', '♦', '♣', '♠'}, 'K': {'♥', '♦', '♣', '♠'}, 'A': {'♥', '♦', '♣', '♠'}}\n"
     ]
    }
   ],
   "source": [
    "print (deck)"
   ]
  },
  {
   "cell_type": "code",
   "execution_count": 3,
   "metadata": {},
   "outputs": [
    {
     "name": "stdout",
     "output_type": "stream",
     "text": [
      "Help on built-in function update:\n",
      "\n",
      "update(...) method of builtins.dict instance\n",
      "    D.update([E, ]**F) -> None.  Update D from dict/iterable E and F.\n",
      "    If E is present and has a .keys() method, then does:  for k in E: D[k] = E[k]\n",
      "    If E is present and lacks a .keys() method, then does:  for k, v in E: D[k] = v\n",
      "    In either case, this is followed by: for k in F:  D[k] = F[k]\n",
      "\n"
     ]
    }
   ],
   "source": [
    "help(deck.update)"
   ]
  },
  {
   "cell_type": "markdown",
   "id": "a3a381b1-b0f4-4a30-9c9c-bcac901bfda2",
   "metadata": {},
   "source": [
    "## Functions"
   ]
  },
  {
   "cell_type": "code",
   "execution_count": null,
   "id": "a44e116f-ba37-4250-aece-f65f31fc7a97",
   "metadata": {},
   "outputs": [],
   "source": [
    "def changeScore():\n",
    "    score = 0\n",
    "    score += 1\n",
    "    \n",
    "def changeScoreGlobal():\n",
    "    #score = 0\n",
    "    global score \n",
    "    score += 1\n",
    "    "
   ]
  },
  {
   "cell_type": "code",
   "execution_count": 67,
   "id": "13ecb620-db3e-480d-9efa-2312eec41da7",
   "metadata": {},
   "outputs": [
    {
     "name": "stdout",
     "output_type": "stream",
     "text": [
      "score before changeScore 12\n",
      "score after chageScore 12\n",
      "\n",
      "score before changeScoreGlobal 12\n",
      "score after changeScoreGlobal 13\n"
     ]
    }
   ],
   "source": [
    "score = 12\n",
    "print(\"score before changeScore\", score)\n",
    "changeScore()\n",
    "print(\"score after chageScore\", score)\n",
    "\n",
    "print(\"\\nscore before changeScoreGlobal\", score)\n",
    "changeScoreGlobal()\n",
    "print(\"score after changeScoreGlobal\", score)\n"
   ]
  },
  {
   "cell_type": "code",
   "execution_count": 68,
   "id": "707774b8-d2dd-43a1-8ae2-dce8bc21b133",
   "metadata": {},
   "outputs": [],
   "source": [
    "# Overloading a Method\n",
    "def change_score(a = None):\n",
    "    if a == None:\n",
    "        global score \n",
    "        score += 1\n",
    "    else:\n",
    "        a += 1\n",
    "        return a"
   ]
  },
  {
   "cell_type": "code",
   "execution_count": 69,
   "id": "fec730f0-6612-438e-bcc8-2108f33fa179",
   "metadata": {},
   "outputs": [
    {
     "data": {
      "text/plain": [
       "2"
      ]
     },
     "execution_count": 69,
     "metadata": {},
     "output_type": "execute_result"
    }
   ],
   "source": [
    "change_score(1)"
   ]
  },
  {
   "cell_type": "code",
   "execution_count": 71,
   "id": "07d52315-6b28-4d27-a8df-aacf38e35fff",
   "metadata": {},
   "outputs": [
    {
     "name": "stdout",
     "output_type": "stream",
     "text": [
      "\n",
      "what is your name:?  a\n",
      "do you like donuts ?  a\n",
      "again? (yes/no) yes\n",
      "\n",
      "what is your name:?  a\n",
      "do you like donuts ?  b\n",
      "again? (yes/no) no\n"
     ]
    },
    {
     "name": "stdout",
     "output_type": "stream",
     "text": [
      "\n",
      "-- results --\n",
      "a likes donuts b\n"
     ]
    }
   ],
   "source": [
    "#Bringing it together\n",
    "\n",
    "def donuts():\n",
    "    active = True\n",
    "    responses = {}\n",
    "    while active:\n",
    "        name = input('\\nwhat is your name:? ')\n",
    "        response = input(\"do you like donuts ? \")\n",
    "        responses[name] = response \n",
    "        again = input(\"again? (yes/no)\")\n",
    "        if again == 'no':\n",
    "            active = False\n",
    "            print('\\n-- results --')\n",
    "    for name, response in responses.items():\n",
    "        print(name + \" likes donuts \" + response)\n",
    "\n",
    "donuts()\n",
    "#print(responses)"
   ]
  },
  {
   "cell_type": "markdown",
   "id": "0599bfbd-89e5-431f-b616-62c34170e86e",
   "metadata": {},
   "source": [
    "## Files"
   ]
  },
  {
   "cell_type": "code",
   "execution_count": 18,
   "id": "af9168cc-9c21-40c8-bab0-9ec5329f20d4",
   "metadata": {},
   "outputs": [],
   "source": [
    "filename = 'programing.txt'\n",
    "with open(filename,'w') as f:\n",
    "    f.write(\"TADA!\")\n",
    "    f.write(\"WOW\")"
   ]
  },
  {
   "cell_type": "code",
   "execution_count": 15,
   "id": "a50f398f-b52e-488e-a8d2-b7557596a3df",
   "metadata": {},
   "outputs": [
    {
     "name": "stdout",
     "output_type": "stream",
     "text": [
      "cat: programing.txt: No such file or directory\n"
     ]
    }
   ],
   "source": [
    "!cat programing.txt"
   ]
  },
  {
   "cell_type": "code",
   "execution_count": 20,
   "id": "ab7bf8e3-0582-4701-82f2-bd4096bf8f6c",
   "metadata": {},
   "outputs": [],
   "source": [
    "filename = 'programing.txt'\n",
    "with open(filename,'a') as f:\n",
    "    for i in range(5):\n",
    "        text = 'line number:' + str(i) + '\\n'\n",
    "        f.write(text)"
   ]
  },
  {
   "cell_type": "code",
   "execution_count": null,
   "id": "a5da3c10-a19e-4d82-b28c-b323988eec3f",
   "metadata": {},
   "outputs": [
    {
     "name": "stdout",
     "output_type": "stream",
     "text": [
      "TADA!WOWline number:0\n",
      "line number:1\n",
      "line number:2\n",
      "line number:3\n",
      "line number:4\n"
     ]
    }
   ],
   "source": [
    "!cat programing.txt\n",
    "#!type programing.txt"
   ]
  },
  {
   "cell_type": "code",
   "execution_count": 27,
   "id": "e9cf7594-9df8-4842-8921-62f2963f9f4a",
   "metadata": {},
   "outputs": [],
   "source": [
    "filename = 'programing.txt'# wont run\n",
    "with open(filename,'a') as f:\n",
    "    f.write(str(student))"
   ]
  },
  {
   "cell_type": "code",
   "execution_count": 28,
   "id": "e2079986-2dcb-4bc0-bb7f-c76da2e0937c",
   "metadata": {},
   "outputs": [],
   "source": [
    "import json\n",
    "with open(filename,'a') as f:\n",
    "    f.write(json.dumps(student))"
   ]
  },
  {
   "cell_type": "code",
   "execution_count": 78,
   "id": "cd16bb6d-36bf-4337-bd0e-0014cfdfc1e5",
   "metadata": {},
   "outputs": [
    {
     "name": "stdout",
     "output_type": "stream",
     "text": [
      "TADA!WOWline number:0\n",
      "line number:1\n",
      "line number:2\n",
      "line number:3\n",
      "line number:4\n",
      "[{\"id\": 0, \"grade\": \"Senior\", \"GPA\": 3.8}, {\"id\": 1, \"grade\": \"Senior\", \"GPA\": 3.8}, {\"id\": 2, \"grade\": \"Senior\", \"GPA\": 3.8}, {\"id\": 3, \"grade\": \"Senior\", \"GPA\": 3.8}, {\"id\": 4, \"grade\": \"Senior\", \"GPA\": 3.8}]"
     ]
    }
   ],
   "source": [
    "!cat programing.txt"
   ]
  },
  {
   "cell_type": "markdown",
   "id": "5fdb848c-081c-456e-b5a4-e973f1d50b76",
   "metadata": {},
   "source": [
    "## Classes and Methods"
   ]
  },
  {
   "cell_type": "code",
   "execution_count": 29,
   "id": "826e6139-aa73-4ac0-b9ad-9e41adbe9337",
   "metadata": {},
   "outputs": [],
   "source": [
    "class Inventory(object):\n",
    "    \"\"\"Create a simple model of inventory\"\"\"\n",
    "    def __init__(self, numberOfItems, size, color):\n",
    "        \"\"\" Initialize name, age, and gpa attributes.\"\"\"\n",
    "        self.numberOfItems = numberOfItems\n",
    "        self.size = size\n",
    "        self.color = color\n",
    "    \n",
    "    def dropItem(self):\n",
    "        self.numberOfItems =- 1\n",
    "        print(\"droped one Item\")\n",
    "    \n",
    "    def get_Color(self):\n",
    "        print(\"the color of the backpack is\", self.color )\n"
   ]
  },
  {
   "cell_type": "code",
   "execution_count": 30,
   "id": "33a529d8-1796-481d-86ee-80b70c7310eb",
   "metadata": {},
   "outputs": [],
   "source": [
    "backpack = Inventory(28, 2.6, \"black\")"
   ]
  },
  {
   "cell_type": "code",
   "execution_count": 31,
   "id": "5d69c6e2-4a8e-43cd-a98f-153531e85024",
   "metadata": {},
   "outputs": [
    {
     "name": "stdout",
     "output_type": "stream",
     "text": [
      "droped one Item\n"
     ]
    },
    {
     "data": {
      "text/plain": [
       "-1"
      ]
     },
     "execution_count": 31,
     "metadata": {},
     "output_type": "execute_result"
    }
   ],
   "source": [
    "backpack.dropItem()\n",
    "backpack.numberOfItems"
   ]
  },
  {
   "cell_type": "code",
   "execution_count": 83,
   "id": "daf66805-4ad5-442e-8d22-6148ca74e58e",
   "metadata": {},
   "outputs": [],
   "source": [
    "class bigBackpack(Inventory):\n",
    "    def __init__(self, color):\n",
    "        numberOfItems=0 \n",
    "        size=1000 \n",
    "        \"\"\"Initialize attributes of the parent class\"\"\"\n",
    "        super().__init__(numberOfItems, size, color)\n",
    "    "
   ]
  },
  {
   "cell_type": "code",
   "execution_count": 84,
   "id": "c092aec3-de16-466e-babf-c1cd9c2eddc9",
   "metadata": {},
   "outputs": [
    {
     "name": "stdout",
     "output_type": "stream",
     "text": [
      "droped one Item\n"
     ]
    }
   ],
   "source": [
    "bigBag = bigBackpack(\"black\")\n",
    "bigBag.dropItem()"
   ]
  },
  {
   "cell_type": "code",
   "execution_count": 105,
   "id": "1cd9bbc2-b59b-49c7-8701-3bd434ddbd00",
   "metadata": {},
   "outputs": [],
   "source": [
    "# Protected items\n",
    "class Student(object):\n",
    "    \"\"\"Create a simple model of a student\"\"\"\n",
    "    def __init__(self, name=None , age=None, gpa=None):\n",
    "        \"\"\"Initialize name, age, and gpa attributes.\"\"\"\n",
    "        self.name = name\n",
    "        self._age = age\n",
    "        self.gpa = gpa\n",
    "    \n",
    "    def study(self):\n",
    "        \"\"\"Increase GPA due to studying\"\"\"\n",
    "        print(self.name.title() +  ' has now studyed')\n",
    "        self.gpa += 0.1\n",
    "    \n",
    "    def get_older(self):\n",
    "        \"\"\"Age the student\"\"\"\n",
    "        print(self.name.title() + ', It has been a good year')\n",
    "        self._age += 1\n",
    "        \n",
    "    @property #this is a property of the object\n",
    "    def age(self):\n",
    "        print('Getting value')\n",
    "        return self._age\n",
    " \n",
    "    # setting the values\n",
    "    @age.setter\n",
    "    def student_age(self, value):\n",
    "        print('Setting age to ' + str(value))\n",
    "        self._age = value #underscore is just consitered private."
   ]
  },
  {
   "cell_type": "code",
   "execution_count": 87,
   "id": "00fd69e3-258b-4356-b6f1-32af90c2cbe1",
   "metadata": {},
   "outputs": [],
   "source": [
    "todd = Student('todd', 45, 3.7)"
   ]
  },
  {
   "cell_type": "code",
   "execution_count": 88,
   "id": "23425c6a-7233-446d-b018-20c8b908e670",
   "metadata": {},
   "outputs": [
    {
     "name": "stdout",
     "output_type": "stream",
     "text": [
      "Todd, It has been a good year\n"
     ]
    }
   ],
   "source": [
    "todd.get_older()"
   ]
  },
  {
   "cell_type": "code",
   "execution_count": 103,
   "id": "6c7348bd-f1a6-457f-9ec8-7eb135d4bbd5",
   "metadata": {},
   "outputs": [
    {
     "ename": "AttributeError",
     "evalue": "property 'age' of 'Student' object has no setter",
     "output_type": "error",
     "traceback": [
      "\u001b[0;31m---------------------------------------------------------------------------\u001b[0m",
      "\u001b[0;31mAttributeError\u001b[0m                            Traceback (most recent call last)",
      "Cell \u001b[0;32mIn[103], line 1\u001b[0m\n\u001b[0;32m----> 1\u001b[0m \u001b[43mtodd\u001b[49m\u001b[38;5;241;43m.\u001b[39;49m\u001b[43mage\u001b[49m \u001b[38;5;241m=\u001b[39m \u001b[38;5;241m12\u001b[39m\n",
      "\u001b[0;31mAttributeError\u001b[0m: property 'age' of 'Student' object has no setter"
     ]
    }
   ],
   "source": [
    "todd.age = 12"
   ]
  },
  {
   "cell_type": "code",
   "execution_count": 97,
   "id": "637df62b-2cc2-4052-bdb3-8c07a78331f4",
   "metadata": {},
   "outputs": [
    {
     "name": "stdout",
     "output_type": "stream",
     "text": [
      "Setting age to 10\n"
     ]
    },
    {
     "data": {
      "text/plain": [
       "10"
      ]
     },
     "execution_count": 97,
     "metadata": {},
     "output_type": "execute_result"
    }
   ],
   "source": [
    "todd.student_age = 10\n",
    "todd._age"
   ]
  },
  {
   "cell_type": "markdown",
   "id": "05c6c650-b009-48d4-8bf3-5d557f83c403",
   "metadata": {},
   "source": [
    "## Json"
   ]
  },
  {
   "cell_type": "code",
   "execution_count": 54,
   "id": "91c6c8cc-f36a-4e6c-9f74-cd05477673c0",
   "metadata": {},
   "outputs": [],
   "source": [
    "def my_name():\n",
    "    \"\"\"Prompt user for there name and then return it.\"\"\"\n",
    "    import json\n",
    "    \n",
    "    filename = 'programing.txt'\n",
    "    \n",
    "    try: # try to open the file create new file if not found\n",
    "        with open(filename) as f:\n",
    "            username = json.load(f)\n",
    "    except FileNotFoundError: #if file is not found prompt user and save file.\n",
    "        username = input(\"What is your name? \")\n",
    "        with open(filename, 'w') as f:\n",
    "            json.dump(username, f)\n",
    "            print(\"We'll remember you when you come back, \" + str(username) + \"!\")\n",
    "    else:\n",
    "        print(\"Welcome back, \" + str(username )+ \"!\")"
   ]
  },
  {
   "cell_type": "code",
   "execution_count": 46,
   "id": "edd70895",
   "metadata": {},
   "outputs": [],
   "source": [
    "filename = 'programing.txt'# wont run\n",
    "with open(filename,'a') as f:\n",
    "    f.write(str(student))"
   ]
  },
  {
   "cell_type": "code",
   "execution_count": 53,
   "id": "cd951a05",
   "metadata": {},
   "outputs": [],
   "source": [
    "import json\n",
    "with open(filename,'a') as f:\n",
    "    f.write(json.dumps(student))"
   ]
  },
  {
   "cell_type": "code",
   "execution_count": 55,
   "id": "054f897a-ea7f-452e-8fad-f25a73142363",
   "metadata": {},
   "outputs": [
    {
     "name": "stdout",
     "output_type": "stream",
     "text": [
      "Welcome back, {'grade': 0, 'Backpack': {'equipped': True, 'backpack_empty': False, 'heavy': True}}!\n"
     ]
    }
   ],
   "source": [
    "\n",
    "my_name()"
   ]
  },
  {
   "cell_type": "code",
   "execution_count": 109,
   "id": "96d2b9de-dc9c-490c-b033-e8bfc73d78c9",
   "metadata": {},
   "outputs": [
    {
     "name": "stdout",
     "output_type": "stream",
     "text": [
      "[\n",
      "  {\n",
      "    \"id\": \"0001\",\n",
      "    \"type\": \"donut\",\n",
      "    \"name\": \"Cake\",\n",
      "    \"ppu\": 0.55,\n",
      "    \"batters\": {\n",
      "      \"batter\": [\n",
      "        {\n",
      "          \"id\": \"1001\",\n",
      "          \"type\": \"Regular\"\n",
      "        },\n",
      "        {\n",
      "          \"id\": \"1002\",\n",
      "          \"type\": \"Chocolate\"\n",
      "        },\n",
      "        {\n",
      "          \"id\": \"1003\",\n",
      "          \"type\": \"Blueberry\"\n",
      "        },\n",
      "        {\n",
      "          \"id\": \"1004\",\n",
      "          \"type\": \"Devil's Food\"\n",
      "        }\n",
      "      ]\n",
      "    },\n",
      "    \"topping\": [\n",
      "      {\n",
      "        \"id\": \"5001\",\n",
      "        \"type\": \"None\"\n",
      "      },\n",
      "      {\n",
      "        \"id\": \"5002\",\n",
      "        \"type\": \"Glazed\"\n",
      "      },\n",
      "      {\n",
      "        \"id\": \"5005\",\n",
      "        \"type\": \"Sugar\"\n",
      "      },\n",
      "      {\n",
      "        \"id\": \"5007\",\n",
      "        \"type\": \"Powdered Sugar\"\n",
      "      },\n",
      "      {\n",
      "        \"id\": \"5006\",\n",
      "        \"type\": \"Chocolate with Sprinkles\"\n",
      "      },\n",
      "      {\n",
      "        \"id\": \"5003\",\n",
      "        \"type\": \"Chocolate\"\n",
      "      },\n",
      "      {\n",
      "        \"id\": \"5004\",\n",
      "        \"type\": \"Maple\"\n",
      "      }\n",
      "    ]\n",
      "  },\n",
      "  {\n",
      "    \"id\": \"0002\",\n",
      "    \"type\": \"donut\",\n",
      "    \"name\": \"Raised\",\n",
      "    \"ppu\": 0.55,\n",
      "    \"batters\": {\n",
      "      \"batter\": [\n",
      "        {\n",
      "          \"id\": \"1001\",\n",
      "          \"type\": \"Regular\"\n",
      "        }\n",
      "      ]\n",
      "    },\n",
      "    \"topping\": [\n",
      "      {\n",
      "        \"id\": \"5001\",\n",
      "        \"type\": \"None\"\n",
      "      },\n",
      "      {\n",
      "        \"id\": \"5002\",\n",
      "        \"type\": \"Glazed\"\n",
      "      },\n",
      "      {\n",
      "        \"id\": \"5005\",\n",
      "        \"type\": \"Sugar\"\n",
      "      },\n",
      "      {\n",
      "        \"id\": \"5003\",\n",
      "        \"type\": \"Chocolate\"\n",
      "      },\n",
      "      {\n",
      "        \"id\": \"5004\",\n",
      "        \"type\": \"Maple\"\n",
      "      }\n",
      "    ]\n",
      "  },\n",
      "  {\n",
      "    \"id\": \"0003\",\n",
      "    \"type\": \"donut\",\n",
      "    \"name\": \"Old Fashioned\",\n",
      "    \"ppu\": 0.55,\n",
      "    \"batters\": {\n",
      "      \"batter\": [\n",
      "        {\n",
      "          \"id\": \"1001\",\n",
      "          \"type\": \"Regular\"\n",
      "        },\n",
      "        {\n",
      "          \"id\": \"1002\",\n",
      "          \"type\": \"Chocolate\"\n",
      "        }\n",
      "      ]\n",
      "    },\n",
      "    \"topping\": [\n",
      "      {\n",
      "        \"id\": \"5001\",\n",
      "        \"type\": \"None\"\n",
      "      },\n",
      "      {\n",
      "        \"id\": \"5002\",\n",
      "        \"type\": \"Glazed\"\n",
      "      },\n",
      "      {\n",
      "        \"id\": \"5003\",\n",
      "        \"type\": \"Chocolate\"\n",
      "      },\n",
      "      {\n",
      "        \"id\": \"5004\",\n",
      "        \"type\": \"Maple\"\n",
      "      }\n",
      "    ]\n",
      "  }\n",
      "]\n"
     ]
    }
   ],
   "source": [
    "with open('donuts.json') as f:\n",
    "    food = json.load(f)\n",
    "print(json.dumps(food, indent=2))"
   ]
  }
 ],
 "metadata": {
  "kernelspec": {
   "display_name": "3.9.16",
   "language": "python",
   "name": "python3"
  },
  "language_info": {
   "codemirror_mode": {
    "name": "ipython",
    "version": 3
   },
   "file_extension": ".py",
   "mimetype": "text/x-python",
   "name": "python",
   "nbconvert_exporter": "python",
   "pygments_lexer": "ipython3",
   "version": "3.9.16"
  }
 },
 "nbformat": 4,
 "nbformat_minor": 5
}
