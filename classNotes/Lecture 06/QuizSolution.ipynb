{
 "cells": [
  {
   "cell_type": "code",
   "execution_count": 3,
   "metadata": {},
   "outputs": [
    {
     "name": "stdout",
     "output_type": "stream",
     "text": [
      "[(1, '♥'), (2, '♥'), (3, '♥'), (4, '♥'), (5, '♥'), (6, '♥'), (7, '♥'), (8, '♥'), (9, '♥'), (10, '♥'), (11, '♥'), (12, '♥'), (13, '♥'), (1, '♦'), (2, '♦'), (3, '♦'), (4, '♦'), (5, '♦'), (6, '♦'), (7, '♦'), (8, '♦'), (9, '♦'), (10, '♦'), (11, '♦'), (12, '♦'), (13, '♦'), (1, '♠'), (2, '♠'), (3, '♠'), (4, '♠'), (5, '♠'), (6, '♠'), (7, '♠'), (8, '♠'), (9, '♠'), (10, '♠'), (11, '♠'), (12, '♠'), (13, '♠'), (1, '♣'), (2, '♣'), (3, '♣'), (4, '♣'), (5, '♣'), (6, '♣'), (7, '♣'), (8, '♣'), (9, '♣'), (10, '♣'), (11, '♣'), (12, '♣'), (13, '♣')]\n"
     ]
    }
   ],
   "source": [
    "deck = list(((r,s) for s in '♥♦♠♣' for r in range(1,14)))\n",
    "print(deck)"
   ]
  },
  {
   "cell_type": "code",
   "execution_count": null,
   "metadata": {},
   "outputs": [],
   "source": []
  }
 ],
 "metadata": {
  "kernelspec": {
   "display_name": "Python 3",
   "language": "python",
   "name": "python3"
  },
  "language_info": {
   "codemirror_mode": {
    "name": "ipython",
    "version": 3
   },
   "file_extension": ".py",
   "mimetype": "text/x-python",
   "name": "python",
   "nbconvert_exporter": "python",
   "pygments_lexer": "ipython3",
   "version": "3.11.11"
  }
 },
 "nbformat": 4,
 "nbformat_minor": 2
}
