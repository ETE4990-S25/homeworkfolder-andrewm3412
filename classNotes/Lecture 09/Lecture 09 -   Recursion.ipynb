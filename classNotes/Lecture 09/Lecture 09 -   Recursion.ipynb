{
 "cells": [
  {
   "cell_type": "markdown",
   "id": "b3eef4b3",
   "metadata": {},
   "source": [
    "## Pure Functions\n",
    "A pure function is a function that does not call other parts of yourcode or other functions within a function. In python all functions should be pure functions\n",
    "\n",
    "A pure function ensure that you code stays clean and it makes it easy to debuging problems"
   ]
  },
  {
   "cell_type": "code",
   "execution_count": null,
   "id": "e35ae16c",
   "metadata": {},
   "outputs": [],
   "source": [
    "# true functional programing\n",
    "def square(alist):\n",
    "    blist = []\n",
    "    for items in alist:\n",
    "        blist.append(items*items)\n",
    "    return blist"
   ]
  },
  {
   "cell_type": "code",
   "execution_count": null,
   "id": "a39a0f51",
   "metadata": {},
   "outputs": [
    {
     "name": "stdout",
     "output_type": "stream",
     "text": [
      "0\n",
      "0\n"
     ]
    }
   ],
   "source": [
    "#not true fucntional programing\n",
    "def squares(alist):\n",
    "    print(square(alist))\n",
    "\n",
    "a = square([1,2,3,4])\n",
    "b = squares([1,2,3,4])"
   ]
  },
  {
   "cell_type": "markdown",
   "id": "105feab2",
   "metadata": {},
   "source": [
    "# Recursion"
   ]
  },
  {
   "cell_type": "code",
   "execution_count": 8,
   "id": "5dffe680",
   "metadata": {},
   "outputs": [
    {
     "name": "stdout",
     "output_type": "stream",
     "text": [
      "0 1\n",
      "1 2\n",
      "3 3\n",
      "6\n"
     ]
    }
   ],
   "source": [
    "from functools import reduce\n",
    "\n",
    "def accumulate (accum, item):\n",
    "    print(accum, item)\n",
    "    return(accum +item)\n",
    "\n",
    "print(reduce(accumulate,[1,2,3],0))"
   ]
  },
  {
   "cell_type": "code",
   "execution_count": null,
   "id": "5a8f777e",
   "metadata": {},
   "outputs": [
    {
     "data": {
      "text/plain": [
       "6"
      ]
     },
     "metadata": {},
     "output_type": "display_data"
    }
   ],
   "source": [
    "def accumulate(accume, item):\n",
    "    if accume:\n",
    "        item =+ accume[0] + accumulate(accume[1:], item)\n",
    "    return item\n",
    "\n",
    "accumulate([1,2,3], 0)\n"
   ]
  }
 ],
 "metadata": {
  "kernelspec": {
   "display_name": "Python 3",
   "language": "python",
   "name": "python3"
  },
  "language_info": {
   "codemirror_mode": {
    "name": "ipython",
    "version": 3
   },
   "file_extension": ".py",
   "mimetype": "text/x-python",
   "name": "python",
   "nbconvert_exporter": "python",
   "pygments_lexer": "ipython3",
   "version": "3.13.2"
  }
 },
 "nbformat": 4,
 "nbformat_minor": 5
}
