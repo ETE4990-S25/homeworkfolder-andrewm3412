{
 "cells": [
  {
   "cell_type": "code",
   "execution_count": 1,
   "metadata": {},
   "outputs": [
    {
     "name": "stdout",
     "output_type": "stream",
     "text": [
      "{\n",
      "    \"name\": \"Bill\",\n",
      "    \"age\": 12,\n",
      "    \"email\": \"Bill@cool.com\",\n",
      "    \"student_id\": 1234\n",
      "}\n"
     ]
    }
   ],
   "source": [
    "from data_classes import Student\n",
    "\n",
    "student = Student(\"Bill\",12, \"Bill@cool.com\", 1234)\n",
    "student.display_json()\n",
    "\n",
    "filename = \"studnet_data\"\n",
    "student.save_to_json(filename)\n",
    "\n"
   ]
  }
 ],
 "metadata": {
  "kernelspec": {
   "display_name": "Python 3",
   "language": "python",
   "name": "python3"
  },
  "language_info": {
   "codemirror_mode": {
    "name": "ipython",
    "version": 3
   },
   "file_extension": ".py",
   "mimetype": "text/x-python",
   "name": "python",
   "nbconvert_exporter": "python",
   "pygments_lexer": "ipython3",
   "version": "3.13.2"
  }
 },
 "nbformat": 4,
 "nbformat_minor": 2
}
