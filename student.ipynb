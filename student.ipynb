{
 "cells": [
  {
   "cell_type": "code",
   "execution_count": null,
   "metadata": {},
   "outputs": [
    {
     "name": "stdout",
     "output_type": "stream",
     "text": [
      "{\n",
      "    \"name\": \"Bill\",\n",
      "    \"age\": 12,\n",
      "    \"email\": \"Bill@cool.com\",\n",
      "    \"student_id\": 1234\n",
      "}\n"
     ]
    }
   ],
   "source": [
    "#import from student from studnet \n",
    "from data_classes import Student\n",
    "\n",
    "#have the variable contain the student \n",
    "student = Student(\"Bill\",12,\"Bill@cool.com\", 1234)\n",
    "#display the studnet data\n",
    "student.display_json()\n",
    "\n",
    "# have the student data save\n",
    "filename = \"studnet_data\"\n",
    "#save the saving the student data \n",
    "student.save_to_json(filename)\n",
    "\n"
   ]
  }
 ],
 "metadata": {
  "kernelspec": {
   "display_name": "Python 3",
   "language": "python",
   "name": "python3"
  },
  "language_info": {
   "codemirror_mode": {
    "name": "ipython",
    "version": 3
   },
   "file_extension": ".py",
   "mimetype": "text/x-python",
   "name": "python",
   "nbconvert_exporter": "python",
   "pygments_lexer": "ipython3",
   "version": "3.13.2"
  }
 },
 "nbformat": 4,
 "nbformat_minor": 2
}
