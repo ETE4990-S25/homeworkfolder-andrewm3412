{
 "cells": [
  {
   "cell_type": "markdown",
   "id": "05edeb21",
   "metadata": {
    "id": "05edeb21"
   },
   "source": [
    "``` py\n",
    "\n",
    "!pip install takeHomeTest\n",
    "import takeHomeTest\n",
    "\n",
    "!pip install time\n",
    "from time import oneWeek as panic\n",
    "\n",
    "panic.dump(takeHomeTest)\n",
    "\n",
    "\n",
    "print(\"Welcome to your take home final!\\n\")\n",
    "```\n",
    "\n",
    "\n",
    "\n"
   ]
  },
  {
   "cell_type": "markdown",
   "id": "bf9edbd3",
   "metadata": {
    "id": "bf9edbd3"
   },
   "source": [
    "## ------------------------------------------- The Legend of Python --------------------------------------------\n",
    "**Lore**\n",
    "\n",
    "In the Kingdom of Pyrovia, all nations once traded in harmony. But since the Shattering of the Global APIs, the knowledge of currency exchange — locked away in XML scrolls — has scattered across the timelines. These scrolls reside in a mysterious repository known only as floatrates.com.\n",
    "\n",
    "The High Council of Programmers has summoned you (and only you), young code-wielder, to begin your final trial. It is divided into 2 parts.\n",
    "* Quest 1 (50xp): Retrieving the scrolls of time - Threading and Json save and parsing\n",
    "* Quest 2 (50xp): Decipher the scrolls - Perform EDA on the data.\n",
    "\n",
    "------ ------ ------ ------ Extra credit ------ ------ ------ ------\n",
    "* Side Quest 1 (10xp*): Lay down seeds for those that follow - create error logs\n",
    "* Side Quest 2 (10xp*): The Quest of reflection  - Use profiling on your code to fully understand it\n",
    "\n",
    "*any points over 100% will be rolled over into your final grade.\n",
    "\n",
    "I may not have time to run all of your code so make sure you very clearly take notes and communicate successes, issues, and lessons learned.\n",
    "Please stay off Chat GPT and stack overflow (and like). You should have most everything you need in the notes."
   ]
  },
  {
   "cell_type": "markdown",
   "id": "e3c69aea",
   "metadata": {
    "id": "e3c69aea"
   },
   "source": [
    "--------------------------------------------\n",
    "# Quest 1 (50 xp): Retrieving the Scrolls of Time\n",
    "Retrieve historical exchange rate data from floatrates.com for one of the (Ideally randomly pick) 52 available currencies, starting from the first record on May 4, 2011, until the present day.\n",
    "\n",
    "- You may store the data as-is in XML, or convert it to JSON, you may use the supplied code below as a starter.\n",
    "\n",
    "- Organize each currency into its own directory.\n",
    "\n",
    "- Ensure your code is modular, maintainable, and robust against timeouts or malformed entries.\n",
    "\n",
    "## Notes from the Grand Master\n",
    "* Threading is your ally. But do not burn out your ally as they have limited resources. You may use the threading or multi-core to parallelize downloads — but mind the server’s load. Around 10 threads is wise.\n",
    "    - You should have around 5040 queries.\n",
    "\n",
    "* XML Scrolls is a new and unfamiliar beast. Therefore takeing on this beast will wield 5 extra experience points. You will not be penalized for choosing to use JSON\n",
    "\n",
    "*  Use the Save. Nothing is worse than losing experience you have already gained. Save the raw XML (or converted JSON) using timestamped (in my example below) files so you do not need to look it up again. Ie. If you put in a start date and your program has already read that data it should not pull that date again. (it would be a good idea to delete your data and run it top to bottom before final submission)\n",
    "\n",
    "* Design gracefully. Structure your project with clear modules: downloader.py, parser.py, and so on.\n",
    "\n",
    "* Log your quest progress in your quest book to show the Grand Master what you learned this is very important.\n"
   ]
  },
  {
   "cell_type": "markdown",
   "id": "651429bb",
   "metadata": {
    "id": "651429bb"
   },
   "source": [
    "--------------------------------------------"
   ]
  },
  {
   "cell_type": "code",
   "execution_count": null,
   "id": "1af60cbc",
   "metadata": {
    "colab": {
     "base_uri": "https://localhost:8080/"
    },
    "executionInfo": {
     "elapsed": 4254,
     "status": "ok",
     "timestamp": 1747081161952,
     "user": {
      "displayName": "Viet Nguyen",
      "userId": "12916684600991116248"
     },
     "user_tz": 420
    },
    "id": "1af60cbc",
    "outputId": "1187c539-26fe-4449-f066-74fbd9db576b"
   },
   "outputs": [],
   "source": [
    "!pip install xmltodict"
   ]
  },
  {
   "cell_type": "code",
   "execution_count": null,
   "id": "c17fecf3",
   "metadata": {},
   "outputs": [],
   "source": [
    "pip install seaborn"
   ]
  },
  {
   "cell_type": "code",
   "execution_count": 1,
   "id": "51352d43",
   "metadata": {
    "id": "51352d43"
   },
   "outputs": [],
   "source": [
    "rates = [\"EUR\", \"GBP\", \"USD\", \"DZD\", \"AUD\", \"BWP\", \"BND\", \"CAD\", \"CLP\", \"CNY\", \"COP\", \"CZK\", \"DKK\", \"HUF\", \"ISK\", \"INR\", \"IDR\", \"ILS\", \"KZT\", \"KRW\", \"KWD\", \"LYD\", \"MYR\", \"MUR\", \"NPR\", \"NZD\", \"NOK\", \"OMR\", \"PKR\", \"PLN\", \"QAR\", \"RUB\", \"SAR\", \"SGD\", \"ZAR\", \"LKR\", \"SEK\", \"CHF\", \"THB\", \"TTD\"]\n",
    "ratesForBase = [r for r in rates if r != \"USD\" and r != \"EUR\" and r != \"GBP\"]"
   ]
  },
  {
   "cell_type": "code",
   "execution_count": 5,
   "id": "bdd7864b",
   "metadata": {
    "colab": {
     "base_uri": "https://localhost:8080/"
    },
    "executionInfo": {
     "elapsed": 653,
     "status": "ok",
     "timestamp": 1747092243713,
     "user": {
      "displayName": "Viet Nguyen",
      "userId": "12916684600991116248"
     },
     "user_tz": 420
    },
    "id": "bdd7864b",
    "outputId": "b17e6743-53ff-4676-f14a-4b3c886a1575"
   },
   "outputs": [
    {
     "name": "stderr",
     "output_type": "stream",
     "text": [
      "C:\\Users\\Owner\\AppData\\Local\\Temp\\ipykernel_34536\\4029501118.py:14: DeprecationWarning: datetime.datetime.utcnow() is deprecated and scheduled for removal in a future version. Use timezone-aware objects to represent datetimes in UTC: datetime.datetime.now(datetime.UTC).\n",
      "  today = datetime.utcnow().date()\n"
     ]
    },
    {
     "name": "stdout",
     "output_type": "stream",
     "text": [
      "Saved 2025-05-04\n",
      "Saved 2025-05-05\n",
      "Saved 2025-05-06\n",
      "Saved 2025-05-07\n",
      "Saved 2025-05-08\n",
      "Saved 2025-05-09\n",
      "Saved 2025-05-10\n",
      "Saved 2025-05-11\n",
      "Saved 2025-05-12\n",
      "Saved 2025-05-13\n",
      "Saved 2025-05-14\n",
      "Saved 2025-05-15\n",
      "Saved 2025-05-16\n",
      "Saved 2025-05-17\n",
      "Saved 2025-05-18\n",
      "Saved 2025-05-19\n",
      "Saved 2025-05-20\n",
      "Saved 2025-05-21\n",
      "\n",
      "Quest q download process complete for SEK.\n"
     ]
    }
   ],
   "source": [
    "import requests\n",
    "import random\n",
    "from datetime import datetime, timedelta\n",
    "import os\n",
    "import threading\n",
    "from concurrent.futures import ThreadPoolExecutor\n",
    "import xmltodict\n",
    "import json\n",
    "import logging\n",
    "\n",
    "\n",
    "\n",
    "startDate = datetime(2025,5,4).date()\n",
    "today = datetime.utcnow().date()\n",
    "base = random.choice(ratesForBase)\n",
    "OUTPUT_DIR = f\"data/{base}\"\n",
    "lock = threading.Lock()\n",
    "\n",
    "#set up logges for quest 1\n",
    "logging.basicConfig(level=logging.INFO, format='%(asctime)s - %(levelname)s - %(message)s', filename= 'quest1_progress.log')\n",
    "logging.info(\"satrting Quest 1 excution.\")\n",
    "\n",
    "def fetch_and_save(date):\n",
    "    date_str = date.strftime(\"%Y-%m-%d\")\n",
    "    file_path= os.path.join(OUTPUT_DIR, f\"{date_str}_{base}.json\")\n",
    "\n",
    "    if os.path.exists(file_path):\n",
    "        logging.info(f\"Skipping download for {base} onn {date_str}.json\")\n",
    "        return date_str\n",
    "    \n",
    "    url = (\n",
    "        f\"https://www.floatrates.com/historical-exchange-rates.html\"\n",
    "        f\"?operation=rates&pb_id=1775&page=historical\"\n",
    "        f\"&currency_date={date_str}&base_currency_code={base}\"\n",
    "        f\"&format_type=xml\"\n",
    "    )\n",
    "    #try-except block for error handling\n",
    "    try:\n",
    "        logging.info(f\"Attempting to download data for {base} on {date_str} from {url}\")\n",
    "        r = requests.get(url, timeout=10)\n",
    "        r.raise_for_status()\n",
    "\n",
    "        xml_data = r.text\n",
    "\n",
    "        #check for empty or malformed XML response\n",
    "        if not xml_data.strip():\n",
    "            logging.warning(f\"Recevied empty response for {base} on {date_str}. Skipping save.\")\n",
    "            return None\n",
    "\n",
    "        data_dict = xmltodict.parse(r.text)\n",
    "        json_data = json.dumps(data_dict, indent=4)\n",
    "\n",
    "        #only writes if new and handle for errors\n",
    "        os.makedirs(OUTPUT_DIR, exist_ok=True)\n",
    "        if not os.path.exists(file_path):\n",
    "            with lock, open (file_path, \"w\", encoding=\"Utf-8\") as f:\n",
    "                f.write(json_data)\n",
    "            logging.info(f\"Successfully download and saved data for {base} on {date_str} to {file_path}\")\n",
    "        else:\n",
    "            logging.info(f\"File already exists, skippin writing for {base} on {date_str}.\")\n",
    "        return date_str\n",
    "    except requests.exceptions.RequestException as e:\n",
    "        logging.error(f\"Failed to download data for {base} on {date_str} from {url}: {e}\")\n",
    "        return None\n",
    "    except xmltodict.expat.ExpatError as e:\n",
    "        logging.error(f\"An unexpedted error occured for {base} on {date_str}: {e}\")\n",
    "        return None\n",
    "    \n",
    "#main function\n",
    "def run_quest1():\n",
    "    logging.info(f\"Randomly chosen base currency for Quest 1: {base}\")\n",
    "    logging.info(f\"Data will be saved  to: {OUTPUT_DIR}\")\n",
    "# build list of all dates\n",
    "dates = [startDate + timedelta(days=i)\n",
    "         for i in range((today-startDate).days+1)]\n",
    "logging.info(f\"check/downloads dtaes: {len(dates)}\")\n",
    "\n",
    "successful_count =  0\n",
    "with ThreadPoolExecutor(max_workers=10) as exe:\n",
    "    for d in exe.map(fetch_and_save, dates):\n",
    "        print(\"Saved\", d)\n",
    "        successful_count += 1\n",
    "logging.info(f\"Quest 1 completed for {base}. Successfully processed {successful_count} out of {len(dates)} date.\")\n",
    "print(f\"\\nQuest q download process complete for {base}.\")\n",
    "\n",
    "if __name__ == \"__main__\":\n",
    "    run_quest1()\n"
   ]
  },
  {
   "cell_type": "markdown",
   "id": "1fc8d316",
   "metadata": {
    "id": "1fc8d316"
   },
   "source": [
    "--------------------------------------------\n",
    "# Quest 2 (50 XP): Decipher the scrolls – Exploratory Data Analysis\n",
    "\n",
    "Once the scrolls have been retrieved their knowledge remains unrefined there patterns hidden, trends veiled. Your task now is to become the Seer of Exchange, the one who can read the currencies’ fates through the lens of data.\n",
    "8\n",
    "Perform Exploratory Data Analysis (EDA) on the dataset you collected in Quest 1.\n",
    "- Aggregate and visualize trends in exchange rate over time for at least 5 major currencies (e.g., USD, EUR, GBP, JPY, CNY).\n",
    "\n",
    "- Identify periods of volatility — perhaps during economic upheaval\n",
    "\n",
    "- Generate at least multiple visualizations using seaborn:\n",
    "\n",
    "- Log your quest progress in your quest book to show the Grand Master what you learned this is very important. some examples of observations are:\n",
    "    - Anomalies, seasonal patterns, or economic events\n",
    "    - Currencies with the most/least stability\n",
    "    - Any interesting correlations between currencies\n",
    "\n",
    "\n",
    "## Notes from the Grand Master\n",
    "- All of your work in this section should be in your jupyter notebook.\n",
    "\n",
    "- It might be helpful to use  google to reveal how economic events affected currency. Use Google News or economic calendars to correlate real-world events to exchange rate spikes or dips.\n"
   ]
  },
  {
   "cell_type": "code",
   "execution_count": 6,
   "id": "VQZgC3dluEhV",
   "metadata": {
    "colab": {
     "base_uri": "https://localhost:8080/",
     "height": 1000
    },
    "executionInfo": {
     "elapsed": 1187,
     "status": "ok",
     "timestamp": 1747093387976,
     "user": {
      "displayName": "Viet Nguyen",
      "userId": "12916684600991116248"
     },
     "user_tz": 420
    },
    "id": "VQZgC3dluEhV",
    "outputId": "38b9b88d-47bf-4af0-8808-728bb42a4bee"
   },
   "outputs": [
    {
     "data": {
      "image/png": "[encoded data removed]",
      "text/plain": [
       "<Figure size 640x480 with 1 Axes>"
      ]
     },
     "metadata": {},
     "output_type": "display_data"
    },
    {
     "data": {
      "image/png": "[encoded data removed]",
      "text/plain": [
       "<Figure size 640x480 with 1 Axes>"
      ]
     },
     "metadata": {},
     "output_type": "display_data"
    },
    {
     "data": {
      "image/png": "[encoded data removed]",
      "text/plain": [
       "<Figure size 640x480 with 2 Axes>"
      ]
     },
     "metadata": {},
     "output_type": "display_data"
    }
   ],
   "source": [
    "import json, pandas as pd, seaborn as sns, matplotlib.pyplot as plt\n",
    "from glob import glob\n",
    "import numpy as np \n",
    "\n",
    "def run_quest2():\n",
    "    # load & flatten\n",
    "    files = glob(\"data/SEK/*.json\")\n",
    "\n",
    "    #check id any JSON files were found\n",
    "    if not files:\n",
    "        print(\"No JSON files found. Ensure quest1 is complted\")\n",
    "        return\n",
    "    \n",
    "    #Attempt to load the base currency from the first file\n",
    "    try:\n",
    "        base = json.load(open(files[0]))[\"channel\"][\"baseCurrency\"]\n",
    "    except(json.JSONDecodeError,KeyError) as e:\n",
    "        print(f\"Error loading base currecny: {e}\")\n",
    "        return\n",
    "\n",
    "    # Initialize a list to store flattened currency records\n",
    "    records  = []\n",
    "    for f in files:\n",
    "        ch    = json.load(open(f))[\"channel\"]\n",
    "        date  = pd.to_datetime(ch[\"pubDate\"].split(\",\")[-1].strip())\n",
    "        items = ch[\"item\"] if isinstance(ch[\"item\"], list) else [ch[\"item\"]]\n",
    "        records += [\n",
    "            (date, it[\"targetCurrency\"], float(it[\"exchangeRate\"].replace(\",\", \"\")))\n",
    "            for it in items if it[\"targetCurrency\"] in [\"USD\",\"EUR\",\"GBP\",\"JPY\",\"CNY\"]\n",
    "    ]\n",
    "    \n",
    "    if not records:\n",
    "        print(\"No valid curecny found\")\n",
    "        return\n",
    "\n",
    "    # create a DataFrame, pivot it to have  dates as index and currencies as columns, and sort by date \n",
    "    df = pd.DataFrame(records, columns=[\"date\",\"currency\",\"rate\"]) \\\n",
    "        .pivot_table(index=\"date\", columns=\"currency\", values=\"rate\", aggfunc=\"mean\").sort_index()\n",
    "\n",
    "    # 1) trend\n",
    "    sns.lineplot(data=df)\n",
    "    plt.title(f\"Rates Over Time ({base})\")\n",
    "    plt.show()\n",
    "\n",
    "    # 2) volatility\n",
    "    ret = df.pct_change()\n",
    "    sns.lineplot(data=ret.rolling(365).std())\n",
    "    plt.title(\"Rolling Volatility\")\n",
    "    plt.show()\n",
    "\n",
    "    #calculation for observation variables\n",
    "    vol = ret.std()\n",
    "\n",
    "    most_stable = vol.idxmin()\n",
    "    least_stable = vol.idxmax()\n",
    "\n",
    "    corr_matrix = ret.corr()\n",
    "    corr_series = corr_matrix.unstack()\n",
    "    unique_corr = corr_series[corr_series.index.get_level_values(0)< corr_series.index.get_level_values(1)]\n",
    "\n",
    "    min_corr_pair = unique_corr.idxmin()\n",
    "    min_corr = unique_corr.min()\n",
    "    min_a, min_b = min_corr_pair[0], min_corr_pair[1]\n",
    "\n",
    "    max_corr_pair = unique_corr.idxmax()\n",
    "    max_corr = unique_corr.max()\n",
    "    max_a, max_b = max_corr_pair[0], max_corr_pair[1]\n",
    "\n",
    "\n",
    "    # 3) correlation\n",
    "    sns.heatmap(ret.corr(), annot=True)\n",
    "    plt.title(\"Correlation of Returns\")\n",
    "    plt.show()\n",
    "\n",
    "    # log observations to TXT\n",
    "    lines = []\n",
    "    lines.append(f\"base currency: {base}\\n\")\n",
    "    lines.append(f\"least volatile: {most_stable} (σ={vol[most_stable]:.4f})\")\n",
    "    lines.append(f\"Most volatile: {least_stable} (σ={vol[least_stable]:.4f}\")\n",
    "    lines.append(\"correlations:\")\n",
    "    lines.append(f\"Highest: {max_a} & {max_b} = {max_corr:.2f}\")\n",
    "    lines.append(f\"Lowest: {min_a} & {min_b} = {min_corr:.2f}\\n\")\n",
    "    with open(\"quest_observations.txt\", \"w\", encoding=\"utf-8\") as f:\n",
    "        f.write(\"\\n\".join(lines)) \n",
    "\n",
    "if __name__ == \"__main__\":\n",
    "    run_quest2()\n"
   ]
  },
  {
   "cell_type": "markdown",
   "id": "7f89fd4f",
   "metadata": {
    "id": "7f89fd4f"
   },
   "source": [
    "--------------------------------------------"
   ]
  },
  {
   "cell_type": "markdown",
   "id": "9a326dec",
   "metadata": {
    "id": "9a326dec"
   },
   "source": [
    "\n",
    "# Side Quest 1 (10 XP): Lay Down Seeds for Those Who Follow – Logging\n",
    "\n",
    "Even the greatest explorer must leave breadcrumbs for those who walk the path after them. Here you will construct an error log system, a journal that captures both triumphs and catastrophes.\n",
    "\n",
    "Implement a robust logging system throughout your codebase to monitor:\n",
    "- Successful currency downloads\n",
    "- Parsing attempts and failures\n",
    "- Skipped downloads (due to saved data or time out)\n",
    "- Connection errors\n",
    "\n",
    "## Notes from the Grand Master\n",
    "- You do not need to do log hierarchy\n",
    "- Use log levels: INFO for progress, WARNING for skips, ERROR for failures\n",
    "\n"
   ]
  },
  {
   "cell_type": "code",
   "execution_count": null,
   "id": "PdNezKjVDeH7",
   "metadata": {
    "id": "PdNezKjVDeH7"
   },
   "outputs": [],
   "source": []
  },
  {
   "cell_type": "markdown",
   "id": "34dc8db4",
   "metadata": {
    "id": "34dc8db4"
   },
   "source": [
    "--------------------------------------------"
   ]
  },
  {
   "cell_type": "markdown",
   "id": "480bc47d",
   "metadata": {
    "id": "480bc47d"
   },
   "source": [
    "\n",
    "# Side Quest 2 (10 XP): The quest of Reflection – Code Profiling\n",
    "\n",
    "The final challenge for any Adventure is introspection — learning the nature of one's own power. In this side quest, you will profile your code, to discover its bottlenecks, inefficiencies, and optimization opportunities.\n",
    "\n",
    "Use profiling tools to evaluate:\n",
    "- Which functions are taking the most time\n",
    "- How threads/processes are behaving\n",
    "- Whether I/O is a bottleneck\n",
    "\n",
    "*A random vendor appears* His invintory shows:\n",
    "- A Profiler function - cProfile or Profile\n",
    "- A time module - timeit for micro-benchmarks\n",
    "- A line profiler - line_profiler"
   ]
  },
  {
   "cell_type": "markdown",
   "id": "b2ef1012",
   "metadata": {
    "id": "b2ef1012"
   },
   "source": []
  }
 ],
 "metadata": {
  "colab": {
   "provenance": []
  },
  "kernelspec": {
   "display_name": "Python 3",
   "language": "python",
   "name": "python3"
  },
  "language_info": {
   "codemirror_mode": {
    "name": "ipython",
    "version": 3
   },
   "file_extension": ".py",
   "mimetype": "text/x-python",
   "name": "python",
   "nbconvert_exporter": "python",
   "pygments_lexer": "ipython3",
   "version": "3.13.3"
  }
 },
 "nbformat": 4,
 "nbformat_minor": 5
}
