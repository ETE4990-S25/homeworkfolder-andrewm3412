{
 "cells": [
  {
   "cell_type": "markdown",
   "metadata": {},
   "source": [
    "Your name goes here Pleaese"
   ]
  },
  {
   "cell_type": "markdown",
   "metadata": {},
   "source": [
    "## Objective:\n",
    "The objective of this assignment is to practice using Functional Programing.\n",
    "\n",
    "## Instructions:\n",
    "\n",
    "Using everything we learned to day about Functional Programing, lambda and itters create one of each of the following:\n",
    "-  Basic Lambda Function\n",
    "    - Create a lambda function that takes one arguments and returns even or odd.\n",
    "- Advanced lambda Function\n",
    "    - Create a lambda function that takes a list and returns their sum \n",
    "- Sorting with Lambda\n",
    "- Filtering with Lambda - `filter()` \n",
    "- Mapping with Lambda - `map()`\n",
    "- Reducing with Lambda -  `reduce()` \n",
    "- Enumerate with or without Lambda - `enumerate()`\n",
    "- zip with or without lambda (may combine enumerate like in class) - `zip()`\n",
    "\n",
    "Submit the file as a .py \n",
    "\n",
    "\n"
   ]
  },
  {
   "cell_type": "code",
   "execution_count": null,
   "metadata": {},
   "outputs": [
    {
     "name": "stdout",
     "output_type": "stream",
     "text": [
      "enter number to check even or odd: \n",
      "even\n"
     ]
    }
   ],
   "source": [
    "#Basic Lambda Fuction \n",
    "check = lambda x: 1 if x  %2 == 0 else 0\n",
    "\n",
    "print(\"enter number to check even or odd: \")\n",
    "if check(int(input())):\n",
    "    print(\"even\")\n",
    "else:\n",
    "    print(\"odd\")\n",
    "\n"
   ]
  },
  {
   "cell_type": "code",
   "execution_count": null,
   "metadata": {},
   "outputs": [
    {
     "name": "stdout",
     "output_type": "stream",
     "text": [
      "15\n"
     ]
    }
   ],
   "source": [
    "#Advance lambda function\n",
    "numbers= [1,2,3,4,5]\n",
    "\n",
    "total= lambda x: sum(x)\n",
    "print(total(numbers))\n"
   ]
  },
  {
   "cell_type": "code",
   "execution_count": null,
   "metadata": {},
   "outputs": [
    {
     "name": "stdout",
     "output_type": "stream",
     "text": [
      "[('Andy', 25), ('Barry', 29), ('Adam', 30)]\n"
     ]
    }
   ],
   "source": [
    "#sorting lambda\n",
    "list = [('Andy', 25), ('Adam', 30),('Barry', 29)]\n",
    "list.sort(key = lambda x: x[1])\n",
    "print(list)"
   ]
  },
  {
   "cell_type": "code",
   "execution_count": null,
   "metadata": {},
   "outputs": [
    {
     "name": "stdout",
     "output_type": "stream",
     "text": [
      "[2, 4]\n"
     ]
    }
   ],
   "source": [
    "#filtering lambda\n",
    "my_numbers = [ 1,2,3,4,5,]\n",
    "evens = list(filter(lambda x: x % 2 == 0, my_numbers))\n",
    "print(evens)"
   ]
  },
  {
   "cell_type": "code",
   "execution_count": null,
   "metadata": {},
   "outputs": [
    {
     "name": "stdout",
     "output_type": "stream",
     "text": [
      "[1, 4, 16, 25]\n"
     ]
    }
   ],
   "source": [
    "#Mapping with lambda\n",
    "my_numbers = [1,2,4,5]\n",
    "square = list(map(lambda x: x **2 , my_numbers))\n",
    "print(square)"
   ]
  },
  {
   "cell_type": "code",
   "execution_count": null,
   "metadata": {},
   "outputs": [
    {
     "name": "stdout",
     "output_type": "stream",
     "text": [
      "10\n"
     ]
    }
   ],
   "source": [
    "#reduce with lambda\n",
    "from functools import reduce\n",
    "list = [1,2,3,4]\n",
    "sum = reduce(lambda x,y: x + y, list)\n",
    "print(sum)"
   ]
  },
  {
   "cell_type": "code",
   "execution_count": null,
   "metadata": {},
   "outputs": [
    {
     "name": "stdout",
     "output_type": "stream",
     "text": [
      "0 cat\n",
      "1 dog\n",
      "2 hamster\n"
     ]
    }
   ],
   "source": [
    "#enumerate without lambda\n",
    "\n",
    "list = ['cat', 'dog', 'hamster']\n",
    "n = enumerate(list, start = 0)\n",
    "\n",
    "for ind , animals in n:\n",
    "    print(ind,animals)\n"
   ]
  },
  {
   "cell_type": "code",
   "execution_count": 13,
   "metadata": {},
   "outputs": [
    {
     "name": "stdout",
     "output_type": "stream",
     "text": [
      "{'cat': 'c', 'dog': 'd', 'hamster': 'h'}\n"
     ]
    }
   ],
   "source": [
    "#zip file with lambda\n",
    "list = ['cat', 'dog', 'hamster']\n",
    "list2 = ['c', 'd', 'h']\n",
    "\n",
    "zip(list,list2)\n",
    "dic = dict(zip(list,list2))\n",
    "print(dic)\n"
   ]
  }
 ],
 "metadata": {
  "kernelspec": {
   "display_name": "Python 3",
   "language": "python",
   "name": "python3"
  },
  "language_info": {
   "codemirror_mode": {
    "name": "ipython",
    "version": 3
   },
   "file_extension": ".py",
   "mimetype": "text/x-python",
   "name": "python",
   "nbconvert_exporter": "python",
   "pygments_lexer": "ipython3",
   "version": "3.13.2"
  }
 },
 "nbformat": 4,
 "nbformat_minor": 2
}
