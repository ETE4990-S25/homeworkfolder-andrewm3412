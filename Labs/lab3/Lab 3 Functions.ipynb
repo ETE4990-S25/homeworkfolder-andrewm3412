{
 "cells": [
  {
   "cell_type": "markdown",
   "id": "abfb9ed7-bb94-48c3-88f0-6693f26b3f7c",
   "metadata": {},
   "source": [
    "# Lab 3 - Files and Functions\n"
   ]
  },
  {
   "cell_type": "markdown",
   "id": "5dd841b5-4e31-428c-a56b-5a74f1aa8c75",
   "metadata": {},
   "source": [
    "## Warm-up \n",
    "\n",
    "Part 1:\n",
    "Write a python file that can be imported.\n",
    "\n",
    "\n"
   ]
  },
  {
   "cell_type": "code",
   "execution_count": null,
   "id": "9916dca4-e082-47ba-957a-d285cd0abce0",
   "metadata": {},
   "outputs": [],
   "source": [
    "import Add\n",
    "\n",
    "print(Add.number)"
   ]
  },
  {
   "cell_type": "markdown",
   "id": "5935273d",
   "metadata": {},
   "source": [
    "\n",
    "Part 2: \n",
    "Using the following as a starting point create a python file that will take in a a name and\n",
    "a list of names and tell you if that name is in the list."
   ]
  },
  {
   "cell_type": "code",
   "execution_count": null,
   "id": "64949662",
   "metadata": {},
   "outputs": [],
   "source": [
    "\n",
    "names = [\"Asustin\", \"Viet\",\"James\", \"Greg\", \"Andrew\"]\n",
    "\n",
    "user = input(\"Enter a name:\")\n",
    "\n",
    "if user in names:\n",
    "    print(\"Found!\")\n",
    "else:\n",
    "    print(\"Not Found\")"
   ]
  },
  {
   "cell_type": "markdown",
   "id": "73b92c92",
   "metadata": {},
   "source": []
  },
  {
   "cell_type": "code",
   "execution_count": null,
   "id": "a4740574",
   "metadata": {},
   "outputs": [
    {
     "name": "stdout",
     "output_type": "stream",
     "text": [
      "\n",
      "Welcome to the mystical land of Eldoria!\n",
      "    \n",
      "A great shadow looms over the kingdom. The sacred Crystal of Eternity has been shattered, and its ten powerful artifacts are now guarded by monstrous creatures deep within treacherous dungeons.\n",
      "\n",
      "Legends speak of an Overlord who grows stronger each day, threatening to consume the land in darkness. Only a true hero can collect the artifacts, reforge the crystal, and defeat the Overlord.\n",
      "\n",
      "You stand before the Sanctuary of Heroes, where champions of old once began their quests.\n",
      "\n",
      "Choose your destiny...\n",
      "\n",
      "1. Shield Hero\n",
      "2. Spear Hero\n",
      "3. Sword Hero\n",
      "4. Bow Hero\n",
      "\n",
      "\n",
      "You have chosen the path of the Bow Hero. Your adventure begins!\n",
      "\n"
     ]
    }
   ],
   "source": [
    "# Main Lab\n",
    "#\"Welcome to the world of Adventure!\\n\" \n",
    "# Main Lab\n",
    "import random\n",
    "\n",
    "print(\"\"\"\n",
    "Welcome to the mystical land of Eldoria!\n",
    "    \n",
    "A great shadow looms over the kingdom. The sacred Crystal of Eternity has been shattered, and its ten powerful artifacts are now guarded by monstrous creatures deep within treacherous dungeons.\n",
    "\n",
    "Legends speak of an Overlord who grows stronger each day, threatening to consume the land in darkness. Only a true hero can collect the artifacts, reforge the crystal, and defeat the Overlord.\n",
    "\n",
    "You stand before the Sanctuary of Heroes, where champions of old once began their quests.\n",
    "\n",
    "Choose your destiny...\n",
    "\"\"\")  # Print the story text\n",
    "\n",
    "# Player chooses their character\n",
    "print(\"1. Shield Hero\\n2. Spear Hero\\n3. Sword Hero\\n4. Bow Hero\\n\")\n",
    "\n",
    "Roles = [\"Shield Hero\", \"Spear Hero\", \"Sword Hero\", \"Bow Hero\"]\n",
    "\n",
    "player_choice = input(\"Choose your character: \").strip().title()  # Normalize input\n",
    "\n",
    "if player_choice in Roles:\n",
    "    player_role = player_choice\n",
    "else:\n",
    "    print(\"\\nInvalid choice! Defaulting to Shield Hero.\")\n",
    "    player_role = \"Shield Hero\"\n",
    "\n",
    "# Function to start the game\n",
    "def start_game():\n",
    "    print(f\"\\nYou have chosen the path of the {player_role}. Your adventure begins!\\n\")\n",
    "\n",
    "# Start the game\n",
    "if __name__ == \"__main__\":\n",
    "    start_game()\n",
    "\n",
    "class Role:\n",
    "    def __init__(self, name, health, attack, special_ability):\n",
    "        self.name = name\n",
    "        self.health = health\n",
    "        self.attack = attack\n",
    "        self.special_ability = special_ability\n",
    "\n",
    "class ShieldHero(Role):\n",
    "    def __init__(self):\n",
    "        super().__init__(\"Shield Hero\", health=200, attack=10, special_ability=\"Unbreakable Defense\")\n",
    "\n",
    "class SpearHero(Role):\n",
    "    def __init__(self):\n",
    "        super().__init__(\"Spear Hero\", health=140, attack=25, special_ability=\"Piercing Thrust\")\n",
    "\n",
    "class SwordHero(Role):\n",
    "    def __init__(self):\n",
    "        super().__init__(\"Sword Hero\", health=160, attack=20, special_ability=\"Blade Storm\")\n",
    "\n",
    "class BowHero(Role):\n",
    "    def __init__(self):\n",
    "        super().__init__(\"Bow Hero\", health=120, attack=30, special_ability=\"Rain of Arrows\")\n",
    "\n",
    "class Dungeon:\n",
    "    def __init__(self, name, monster, artifact_reward):\n",
    "        self.name = name\n",
    "        self.monster = monster\n",
    "        self.artifact_reward = artifact_reward\n",
    "\n",
    "\n",
    "class Monster:\n",
    "    def __init__(self, name, health, attack):\n",
    "        self.name = name\n",
    "        self.health = health\n",
    "        self.attack = attack\n",
    "\n",
    "class FinalBoss(Monster):\n",
    "    def __init__(self):\n",
    "        super().__init__(\"Overlord of Darkness\", health=500, attack=40)\n"
   ]
  }
 ],
 "metadata": {
  "kernelspec": {
   "display_name": "Python 3",
   "language": "python",
   "name": "python3"
  },
  "language_info": {
   "codemirror_mode": {
    "name": "ipython",
    "version": 3
   },
   "file_extension": ".py",
   "mimetype": "text/x-python",
   "name": "python",
   "nbconvert_exporter": "python",
   "pygments_lexer": "ipython3",
   "version": "3.12.1"
  }
 },
 "nbformat": 4,
 "nbformat_minor": 5
}
