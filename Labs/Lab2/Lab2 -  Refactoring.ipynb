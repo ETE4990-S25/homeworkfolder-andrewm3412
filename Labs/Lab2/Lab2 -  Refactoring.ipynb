{
 "cells": [
  {
   "cell_type": "code",
   "execution_count": 15,
   "id": "9fb853bc-c599-4405-b1be-d186da93b6c3",
   "metadata": {},
   "outputs": [
    {
     "name": "stdin",
     "output_type": "stream",
     "text": [
      "Enter a number:  2\n"
     ]
    },
    {
     "name": "stdout",
     "output_type": "stream",
     "text": [
      "number is more then the max value:\n"
     ]
    }
   ],
   "source": [
    " Max = 5 \n",
    "guess = int(input(\"Enter a number: \"))\n",
    "if Max > guess: \n",
    "    print(\"number is more then the max value:\")\n",
    "else: \n",
    "    print(\"number  is less then the max value\")\n"
   ]
  },
  {
   "cell_type": "code",
   "execution_count": 35,
   "id": "8d3eb2f0-f104-4e6f-81d4-b7d719c1efb6",
   "metadata": {},
   "outputs": [
    {
     "name": "stdin",
     "output_type": "stream",
     "text": [
      "Enter a number:  5\n"
     ]
    },
    {
     "name": "stdout",
     "output_type": "stream",
     "text": [
      "your guess 5 is equal to the max value 5\n"
     ]
    }
   ],
   "source": [
    "Max = 5 \n",
    "guess = int(input(\"Enter a number: \"))\n",
    "if Max < guess: \n",
    "        print(f\"your guess {guess} is more than the max {max}\")\n",
    "elif Max == guess:\n",
    "    print(f\"your guess {guess} is equal to the max value {max}\")\n",
    "\n",
    "else: \n",
    "    print(f\"your guess {guess} less then the max value {max}\")"
   ]
  },
  {
   "cell_type": "code",
   "execution_count": 43,
   "id": "cb98c360-f5ae-4198-bd28-d00d8bc8a5b6",
   "metadata": {},
   "outputs": [],
   "source": [
    "def a(inCharType, incharSpell):\n",
    "    spells = [\"fireball\", \"lightning\"]\n",
    "    attacks = [\"slash\", \"bash\"]\n",
    "    \n",
    "    if inCharType == \"Wizard\":\n",
    "        if incharSpell in spells:\n",
    "            return \"casts \" + incharSpell  \n",
    "    \n",
    "    elif inCharType == \"Warrior\":\n",
    "        if incharSpell in attacks:\n",
    "            return \"casts \" + incharSpell  \n",
    "    \n",
    "    return \"does nothing\"\n",
    "\n",
    "    print(a(\"Wizard\", \"fireball\")) \n",
    "    \n",
    "\n",
    "\n",
    "\n",
    "\n"
   ]
  }
 ],
 "metadata": {
  "kernelspec": {
   "display_name": "Python 3 (ipykernel)",
   "language": "python",
   "name": "python3"
  },
  "language_info": {
   "codemirror_mode": {
    "name": "ipython",
    "version": 3
   },
   "file_extension": ".py",
   "mimetype": "text/x-python",
   "name": "python",
   "nbconvert_exporter": "python",
   "pygments_lexer": "ipython3",
   "version": "3.13.1"
  }
 },
 "nbformat": 4,
 "nbformat_minor": 5
}
