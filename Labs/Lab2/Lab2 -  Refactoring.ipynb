{
 "cells": [
  {
   "cell_type": "code",
   "execution_count": null,
   "id": "8d3eb2f0-f104-4e6f-81d4-b7d719c1efb6",
   "metadata": {},
   "outputs": [],
   "source": [
    "Max = 5 \n",
    "guess = int(input(\"Enter a number: \"))\n",
    "if Max < guess: \n",
    "        print(f\"your guess {guess} is more than the max {max}\")\n",
    "elif Max == guess:\n",
    "    print(f\"your guess {guess} is equal to the max value {max}\")\n",
    "\n",
    "else: \n",
    "    print(f\"your guess {guess} less then the max value {max}\")"
   ]
  },
  {
   "cell_type": "code",
   "execution_count": 6,
   "id": "cb98c360-f5ae-4198-bd28-d00d8bc8a5b6",
   "metadata": {},
   "outputs": [
    {
     "name": "stdout",
     "output_type": "stream",
     "text": [
      "Wizard casts fireball\n",
      "Warrior uses slash\n",
      "fights dragon\n",
      "exploring dungron\n",
      "exploring dungron\n",
      "exploring dungron\n",
      "exploring dungron\n",
      "exploring dungron\n",
      "findin treasure\n",
      "findin treasure\n",
      "findin treasure\n",
      "findin treasure\n",
      "findin treasure\n",
      " "
     ]
    }
   ],
   "source": [
    "def a(inCharType, incharSpell):\n",
    "    spells = [\"fireball\", \"lightning\"]\n",
    "    attacks = [\"slash\", \"bash\"]\n",
    "    c\n",
    "    if inCharType == \"Wizard\":\n",
    "        if incharSpell in spells:\n",
    "            return \"Wizard casts \" + incharSpell  \n",
    "    \n",
    "    elif inCharType == \"Warrior\":\n",
    "        if incharSpell in attacks:\n",
    "            return \"Warrior uses \" + incharSpell  \n",
    "    \n",
    "    return \"does nothing\" \n",
    "\n",
    "    \n",
    "def b(inMobsType):\n",
    "    Mobs = [\"dragon\", \"goblin\", \"orc\"]\n",
    "    if inMobsType in Mobs:\n",
    "            return f\"fights {inMobsType}\"\n",
    "    else:\n",
    "            return \"does nothing\"\n",
    "\n",
    "def c():\n",
    "     print(\"exploring dungron\\n\" * 5, end=\"\")\n",
    "     print(\"findin treasure\\n\" * 5,   end= \" \")\n",
    "\n",
    "def main ():\n",
    "    print(a(\"Wizard\", \"fireball\"))\n",
    "    print(a(\"Warrior\", \"slash\"))\n",
    "    print(b(\"dragon\"))\n",
    "    c()\n",
    "\n",
    "if __name__ == \"__main__\":\n",
    "    main()\n",
    "\n",
    "\n",
    "    \n",
    "\n",
    "  \n",
    "\n",
    "\n",
    "\n",
    "\n",
    "\n",
    "\n",
    "\n"
   ]
  }
 ],
 "metadata": {
  "kernelspec": {
   "display_name": "Python 3",
   "language": "python",
   "name": "python3"
  },
  "language_info": {
   "codemirror_mode": {
    "name": "ipython",
    "version": 3
   },
   "file_extension": ".py",
   "mimetype": "text/x-python",
   "name": "python",
   "nbconvert_exporter": "python",
   "pygments_lexer": "ipython3",
   "version": "3.12.1"
  }
 },
 "nbformat": 4,
 "nbformat_minor": 5
}
