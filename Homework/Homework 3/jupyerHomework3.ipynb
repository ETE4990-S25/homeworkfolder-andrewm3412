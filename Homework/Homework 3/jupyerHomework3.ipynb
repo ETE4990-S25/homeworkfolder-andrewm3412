{
 "cells": [
  {
   "cell_type": "code",
   "execution_count": 3,
   "id": "1231bdb5-e23b-4570-8a01-46a44f956bcc",
   "metadata": {},
   "outputs": [
    {
     "name": "stdout",
     "output_type": "stream",
     "text": [
      "{'name': 'Alice', 'age': 20, 'email': 'alice@example.com', 'student_id': 226812}\n"
     ]
    }
   ],
   "source": [
    "import json\n",
    "from data_classes import Student  # Import the Student class\n",
    "\n",
    "# Create a Student instance\n",
    "student = Student(\"Alice\", 20, \"alice@example.com\", 226812)\n",
    "\n",
    "# Save the student data to a JSON file\n",
    "student.save_to_json()\n",
    "\n",
    "# Display the student data from the JSON file\n",
    "student.display_student()\n",
    "\n",
    "#########################################################\n",
    "#creating class(person)\n",
    "# started by defining a person(class) with attributes \n",
    "#with name, age, and email, which allows me to repeat the code\n",
    "#without repeating myself\n",
    "\n",
    "#creating class(Student)\n",
    "# I then extended the class attributes by adding student_id\n",
    "# allowing students to in hermits name, age, and email in the person\n",
    "\n",
    "# The third step was to save my data to a JSON file by using JSON to store the student's detail\n",
    "\n",
    "# The fourth step is to display the student data by using the code JSON load to read the file \n",
    "\n",
    "# The fifth step I then created the student\n",
    "#student = Student(\"Alice\", 20, \"alice@example.com\", 226812)\n",
    "\n",
    "# The final step was to import my saved data onto NoteBook \n",
    "# I needed to use import JSON to have the module in Jupiter if I didn't have that\n",
    "# The code would give me an error\n",
    "#the next code from data_classes import Student: this allows me to separate the files(student) form the file name data\n",
    "# To ensure that I have  a name, age, email, and  ID, I created Alice  \n",
    "# and again, I  Save the student data to a JSON file by calling the save_to Json method from the student class\n",
    "#writing the Alice data into the file\n",
    "# Lastly, I display all using students.display_student() retrieving the data from the file\n"
   ]
  },
  {
   "cell_type": "code",
   "execution_count": null,
   "id": "207c81b1-e4eb-40cd-a051-30b7915faa76",
   "metadata": {},
   "outputs": [],
   "source": []
  }
 ],
 "metadata": {
  "kernelspec": {
   "display_name": "Python 3 (ipykernel)",
   "language": "python",
   "name": "python3"
  },
  "language_info": {
   "codemirror_mode": {
    "name": "ipython",
    "version": 3
   },
   "file_extension": ".py",
   "mimetype": "text/x-python",
   "name": "python",
   "nbconvert_exporter": "python",
   "pygments_lexer": "ipython3",
   "version": "3.13.2"
  }
 },
 "nbformat": 4,
 "nbformat_minor": 5
}
