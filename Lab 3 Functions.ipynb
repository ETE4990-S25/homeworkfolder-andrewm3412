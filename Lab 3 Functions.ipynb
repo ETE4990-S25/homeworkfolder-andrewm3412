{
 "cells": [
  {
   "cell_type": "markdown",
   "id": "abfb9ed7-bb94-48c3-88f0-6693f26b3f7c",
   "metadata": {},
   "source": [
    "# Lab 3 - Files and Functions\n"
   ]
  },
  {
   "cell_type": "markdown",
   "id": "5dd841b5-4e31-428c-a56b-5a74f1aa8c75",
   "metadata": {},
   "source": [
    "## Warm-up \n",
    "\n",
    "Part 1:\n",
    "Write a python file that can be imported.\n",
    "\n",
    "\n"
   ]
  },
  {
   "cell_type": "code",
   "execution_count": null,
   "id": "9916dca4-e082-47ba-957a-d285cd0abce0",
   "metadata": {},
   "outputs": [],
   "source": [
    "import Add\n",
    "\n",
    "print(Add.number)"
   ]
  },
  {
   "cell_type": "markdown",
   "id": "5935273d",
   "metadata": {},
   "source": [
    "\n",
    "Part 2: \n",
    "Using the following as a starting point create a python file that will take in a a name and\n",
    "a list of names and tell you if that name is in the list."
   ]
  },
  {
   "cell_type": "code",
   "execution_count": null,
   "id": "64949662",
   "metadata": {},
   "outputs": [],
   "source": [
    "\n",
    "names = [\"Asustin\", \"Viet\",\"James\", \"Greg\", \"Andrew\"]\n",
    "\n",
    "user = input(\"Enter a name:\")\n",
    "\n",
    "if user in names:\n",
    "    print(\"Found!\")\n",
    "else:\n",
    "    print(\"Not Found\")"
   ]
  },
  {
   "cell_type": "markdown",
   "id": "73b92c92",
   "metadata": {},
   "source": []
  },
  {
   "cell_type": "code",
   "execution_count": null,
   "id": "a4740574",
   "metadata": {},
   "outputs": [],
   "source": [
    "# Main Lab\n",
    "print(\"Welcome to the world of Adventure!\\n\" )\n",
    "# Player choose thier chatacter\n",
    "\n",
    "print(\"choose your character\\n\")\n",
    "\n",
    "print(\"1. Warrior\\n2. Mage\\n3. Halfing\\n4. Ceric\\n\")\n",
    "\n",
    "choice = input(\"Choose that character\")\n",
    "\n",
    "classes =[\"Warrior\", \"Mage\", \"Halfing\", \"Cleric\"]\n",
    "\n",
    "if choice in classes:\n",
    "    player = choice\n",
    "else:\n",
    "    player = \"Warrior\"\n",
    "\n",
    "#game star\n",
    "class Game:\n",
    "    def __init__(self,player)"
   ]
  }
 ],
 "metadata": {
  "kernelspec": {
   "display_name": "Python 3",
   "language": "python",
   "name": "python3"
  },
  "language_info": {
   "codemirror_mode": {
    "name": "ipython",
    "version": 3
   },
   "file_extension": ".py",
   "mimetype": "text/x-python",
   "name": "python",
   "nbconvert_exporter": "python",
   "pygments_lexer": "ipython3",
   "version": "3.13.2"
  }
 },
 "nbformat": 4,
 "nbformat_minor": 5
}
